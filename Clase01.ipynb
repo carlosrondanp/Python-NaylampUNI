{
 "cells": [
  {
   "cell_type": "markdown",
   "id": "b815c3fa",
   "metadata": {},
   "source": [
    "# Variables y tipos de datos"
   ]
  },
  {
   "cell_type": "markdown",
   "id": "7f580070",
   "metadata": {},
   "source": [
    "Asigmanmos los datos sin indicar de qué tipo son. Tipos de datos:\n",
    "* int $\\rightarrow$ Números enteros\n",
    "* float $\\rightarrow$ Números decimales\n",
    "* str $\\rightarrow$ Cadena de texto\n",
    "* bool $\\rightarrow$ True / False"
   ]
  },
  {
   "cell_type": "code",
   "execution_count": 22,
   "id": "70177532",
   "metadata": {},
   "outputs": [
    {
     "data": {
      "text/plain": [
       "4"
      ]
     },
     "execution_count": 22,
     "metadata": {},
     "output_type": "execute_result"
    }
   ],
   "source": [
    "a = 1 + 3\n",
    "a"
   ]
  },
  {
   "cell_type": "code",
   "execution_count": 23,
   "id": "f112f8e8",
   "metadata": {},
   "outputs": [
    {
     "data": {
      "text/plain": [
       "'ASQ'"
      ]
     },
     "execution_count": 23,
     "metadata": {},
     "output_type": "execute_result"
    }
   ],
   "source": [
    "b = 'ASQ'\n",
    "b"
   ]
  },
  {
   "cell_type": "code",
   "execution_count": 24,
   "id": "29075773",
   "metadata": {},
   "outputs": [
    {
     "data": {
      "text/plain": [
       "2.0999"
      ]
     },
     "execution_count": 24,
     "metadata": {},
     "output_type": "execute_result"
    }
   ],
   "source": [
    "c = 2.0999\n",
    "c"
   ]
  },
  {
   "cell_type": "code",
   "execution_count": 25,
   "id": "a66ea43b",
   "metadata": {},
   "outputs": [
    {
     "data": {
      "text/plain": [
       "(int, str, float)"
      ]
     },
     "execution_count": 25,
     "metadata": {},
     "output_type": "execute_result"
    }
   ],
   "source": [
    "type(a), type(b), type(c)"
   ]
  },
  {
   "cell_type": "markdown",
   "id": "d149f715",
   "metadata": {},
   "source": [
    "## Ejemplo\n",
    "\n",
    "Calcular el índice de masa corporal $IMC = \\frac{Peso\\ [kg]}{altura\\ [m^2]}$"
   ]
  },
  {
   "cell_type": "code",
   "execution_count": 26,
   "id": "8ec4f8e0",
   "metadata": {},
   "outputs": [
    {
     "data": {
      "text/plain": [
       "22.1606648199446"
      ]
     },
     "execution_count": 26,
     "metadata": {},
     "output_type": "execute_result"
    }
   ],
   "source": [
    "peso = 80\n",
    "altura = 1.9\n",
    "IMC = peso/(altura**2)\n",
    "IMC"
   ]
  },
  {
   "cell_type": "markdown",
   "id": "a2efeb62",
   "metadata": {},
   "source": [
    "# Creación de listas\n",
    "Litas: es una colección de valores de cualquier tipo"
   ]
  },
  {
   "cell_type": "code",
   "execution_count": 27,
   "id": "c00c5141",
   "metadata": {},
   "outputs": [
    {
     "data": {
      "text/plain": [
       "[10, 20, 30, 40, 'Carlos']"
      ]
     },
     "execution_count": 27,
     "metadata": {},
     "output_type": "execute_result"
    }
   ],
   "source": [
    "lista_1 = [10,20,30,40, 'Carlos']\n",
    "lista_1"
   ]
  },
  {
   "cell_type": "markdown",
   "id": "a9eb3d1a",
   "metadata": {},
   "source": [
    "`` \n",
    "[10, 20, 30, 40, 'Carlos']\n",
    "  0   1   2   3     4\n",
    " -5  -4  -3  -2    -1\n",
    "``\n",
    "\n",
    "Por lo tanto, si llamamos a `lista_1[3]` debería recibir de output `40`"
   ]
  },
  {
   "cell_type": "code",
   "execution_count": 28,
   "id": "f4e7595c",
   "metadata": {},
   "outputs": [
    {
     "data": {
      "text/plain": [
       "40"
      ]
     },
     "execution_count": 28,
     "metadata": {},
     "output_type": "execute_result"
    }
   ],
   "source": [
    "lista_1[3]"
   ]
  },
  {
   "cell_type": "markdown",
   "id": "df485c45",
   "metadata": {},
   "source": [
    "## Cómo añadir o quitar valores de una lista\n",
    "1. añadir\n",
    "2. quitar"
   ]
  },
  {
   "cell_type": "code",
   "execution_count": 29,
   "id": "482347c4",
   "metadata": {},
   "outputs": [
    {
     "data": {
      "text/plain": [
       "[10, 20, 30, 40, 'Carlos', 1, 2, 3]"
      ]
     },
     "execution_count": 29,
     "metadata": {},
     "output_type": "execute_result"
    }
   ],
   "source": [
    "lista_1 = lista_1 + [1,2,3]\n",
    "lista_1"
   ]
  },
  {
   "cell_type": "code",
   "execution_count": 32,
   "id": "dabe389e",
   "metadata": {},
   "outputs": [
    {
     "data": {
      "text/plain": [
       "[10, 20, 30, 40, 1, 2, 3, 2, 2]"
      ]
     },
     "execution_count": 32,
     "metadata": {},
     "output_type": "execute_result"
    }
   ],
   "source": [
    "lista_1.append(2)\n",
    "lista_1"
   ]
  },
  {
   "cell_type": "markdown",
   "id": "2d386300",
   "metadata": {},
   "source": [
    "***"
   ]
  },
  {
   "cell_type": "code",
   "execution_count": 31,
   "id": "f55dd24e",
   "metadata": {},
   "outputs": [
    {
     "data": {
      "text/plain": [
       "[10, 20, 30, 40, 1, 2, 3, 2]"
      ]
     },
     "execution_count": 31,
     "metadata": {},
     "output_type": "execute_result"
    }
   ],
   "source": [
    "lista_1.remove('Carlos')\n",
    "lista_1"
   ]
  },
  {
   "cell_type": "markdown",
   "id": "07c4002e",
   "metadata": {},
   "source": [
    "## Crear nuevas listas\n",
    "1. Por punteros (dependientes)\n",
    "2. Por la función `list()` (independientes)"
   ]
  },
  {
   "cell_type": "code",
   "execution_count": 33,
   "id": "0e54ac10",
   "metadata": {},
   "outputs": [
    {
     "data": {
      "text/plain": [
       "[1, 2, 3]"
      ]
     },
     "execution_count": 33,
     "metadata": {},
     "output_type": "execute_result"
    }
   ],
   "source": [
    "x = [1,2,3]\n",
    "x"
   ]
  },
  {
   "cell_type": "code",
   "execution_count": 34,
   "id": "c21a06bd",
   "metadata": {},
   "outputs": [
    {
     "data": {
      "text/plain": [
       "[1, 2, 3]"
      ]
     },
     "execution_count": 34,
     "metadata": {},
     "output_type": "execute_result"
    }
   ],
   "source": [
    "y = x\n",
    "y"
   ]
  },
  {
   "cell_type": "code",
   "execution_count": 35,
   "id": "40e91361",
   "metadata": {},
   "outputs": [
    {
     "data": {
      "text/plain": [
       "([1, 100, 3], [1, 100, 3])"
      ]
     },
     "execution_count": 35,
     "metadata": {},
     "output_type": "execute_result"
    }
   ],
   "source": [
    "y[1] = 100\n",
    "x, y"
   ]
  },
  {
   "cell_type": "markdown",
   "id": "7d641e2d",
   "metadata": {},
   "source": [
    "***"
   ]
  },
  {
   "cell_type": "code",
   "execution_count": 38,
   "id": "f29d98b9",
   "metadata": {},
   "outputs": [
    {
     "data": {
      "text/plain": [
       "[1, 2, 3]"
      ]
     },
     "execution_count": 38,
     "metadata": {},
     "output_type": "execute_result"
    }
   ],
   "source": [
    "x = [1,2,3]\n",
    "x"
   ]
  },
  {
   "cell_type": "code",
   "execution_count": 39,
   "id": "2059e6fb",
   "metadata": {},
   "outputs": [],
   "source": [
    "z = list(x)"
   ]
  },
  {
   "cell_type": "code",
   "execution_count": 41,
   "id": "6d29cf6a",
   "metadata": {},
   "outputs": [
    {
     "data": {
      "text/plain": [
       "([1, 2, 3], [1, 2, 'cambio'])"
      ]
     },
     "execution_count": 41,
     "metadata": {},
     "output_type": "execute_result"
    }
   ],
   "source": [
    "z[2] = 'cambio'\n",
    "x, z"
   ]
  },
  {
   "cell_type": "markdown",
   "id": "3e252592",
   "metadata": {},
   "source": [
    "# Funciones \n",
    "``\n",
    "def nombre_función(arg_1,arg_2):\n",
    "    %codigo\n",
    "    return resultado\n",
    "``"
   ]
  },
  {
   "cell_type": "code",
   "execution_count": 42,
   "id": "d1bafee9",
   "metadata": {},
   "outputs": [],
   "source": [
    "def primera_funcion(base, exponente):\n",
    "    resultado = base ** exponente\n",
    "    return resultado"
   ]
  },
  {
   "cell_type": "code",
   "execution_count": 47,
   "id": "419451bc",
   "metadata": {},
   "outputs": [
    {
     "data": {
      "text/plain": [
       "1024"
      ]
     },
     "execution_count": 47,
     "metadata": {},
     "output_type": "execute_result"
    }
   ],
   "source": [
    "primera_funcion(2,10)"
   ]
  },
  {
   "cell_type": "code",
   "execution_count": 48,
   "id": "fc6de2db",
   "metadata": {},
   "outputs": [
    {
     "data": {
      "text/plain": [
       "515377520732011331036461129765621272702107522001"
      ]
     },
     "execution_count": 48,
     "metadata": {},
     "output_type": "execute_result"
    }
   ],
   "source": [
    "primera_funcion(3,100)"
   ]
  },
  {
   "cell_type": "markdown",
   "id": "c97da830",
   "metadata": {},
   "source": [
    "<div class=\"alert alert-block alert-warning\">\n",
    "<b>Nota:</b> Es posible tener argumentos flexibles o número de parámetros no determinados\n",
    "</div>\n",
    "\n",
    "``\n",
    "def funcion (*args):\n",
    "    %codigo\n",
    "    return resultado\n",
    "``\n"
   ]
  },
  {
   "cell_type": "code",
   "execution_count": 65,
   "id": "9990d2a2",
   "metadata": {},
   "outputs": [],
   "source": [
    "def flexible(*args):\n",
    "    mult_todos = 1\n",
    "    for n in args:\n",
    "        mult_todos = mult_todos * n\n",
    "    \n",
    "    return mult_todos"
   ]
  },
  {
   "cell_type": "code",
   "execution_count": 66,
   "id": "dadfc449",
   "metadata": {},
   "outputs": [
    {
     "name": "stdout",
     "output_type": "stream",
     "text": [
      "1\n",
      "(1,)\n"
     ]
    },
    {
     "data": {
      "text/plain": [
       "1"
      ]
     },
     "execution_count": 66,
     "metadata": {},
     "output_type": "execute_result"
    }
   ],
   "source": [
    "flexible(1)"
   ]
  },
  {
   "cell_type": "code",
   "execution_count": 67,
   "id": "ee1cad5e",
   "metadata": {},
   "outputs": [
    {
     "name": "stdout",
     "output_type": "stream",
     "text": [
      "2 3\n",
      "(2, 3)\n"
     ]
    },
    {
     "data": {
      "text/plain": [
       "6"
      ]
     },
     "execution_count": 67,
     "metadata": {},
     "output_type": "execute_result"
    }
   ],
   "source": [
    "flexible(2,3)"
   ]
  },
  {
   "cell_type": "code",
   "execution_count": 68,
   "id": "ac8b948a",
   "metadata": {},
   "outputs": [
    {
     "name": "stdout",
     "output_type": "stream",
     "text": [
      "2 3 4\n",
      "(2, 3, 4)\n"
     ]
    },
    {
     "data": {
      "text/plain": [
       "24"
      ]
     },
     "execution_count": 68,
     "metadata": {},
     "output_type": "execute_result"
    }
   ],
   "source": [
    "flexible(2,3,4)"
   ]
  },
  {
   "cell_type": "markdown",
   "id": "c82a7fca",
   "metadata": {},
   "source": [
    "<div class=\"alert alert-block alert-success\">\n",
    "<b>Up Nota:</b> La función lambda \n",
    "</div>"
   ]
  },
  {
   "cell_type": "code",
   "execution_count": null,
   "id": "9dad1d52",
   "metadata": {},
   "outputs": [],
   "source": []
  },
  {
   "cell_type": "code",
   "execution_count": null,
   "id": "683af132",
   "metadata": {},
   "outputs": [],
   "source": []
  },
  {
   "cell_type": "code",
   "execution_count": null,
   "id": "11d691a0",
   "metadata": {},
   "outputs": [],
   "source": []
  },
  {
   "cell_type": "code",
   "execution_count": null,
   "id": "fd4e5b27",
   "metadata": {},
   "outputs": [],
   "source": []
  },
  {
   "cell_type": "markdown",
   "id": "ac723776",
   "metadata": {},
   "source": [
    "<div class=\"alert alert-block alert-info\">\n",
    "<b>Ojito:</b> Las listas son chevere\n",
    "</div>"
   ]
  },
  {
   "cell_type": "markdown",
   "id": "252a5499",
   "metadata": {},
   "source": [
    "<div class=\"alert alert-block alert-warning\">\n",
    "<b>Example:</b> Use yellow boxes for examples that are not \n",
    "inside code cells, or use for mathematical formulas if needed.\n",
    "</div>"
   ]
  },
  {
   "cell_type": "markdown",
   "id": "d0b04eb8",
   "metadata": {},
   "source": [
    "<div class=\"alert alert-block alert-success\">\n",
    "<b>Up to you:</b> Use green boxes sparingly, and only for some specific \n",
    "purpose that the other boxes can't cover. For example, if you have a lot \n",
    "of related content to link to, maybe you decide to use green boxes for \n",
    "related links from each section of a notebook.\n",
    "</div>"
   ]
  },
  {
   "cell_type": "markdown",
   "id": "748cbf4f",
   "metadata": {},
   "source": [
    "<div class=\"alert alert-block alert-danger\">\n",
    "<b>Just don't:</b> In general, avoid the red boxes. These should only be\n",
    "used for actions that might cause data loss or another major issue.\n",
    "</div>"
   ]
  },
  {
   "cell_type": "markdown",
   "id": "a5627b4d",
   "metadata": {},
   "source": [
    "***"
   ]
  },
  {
   "cell_type": "markdown",
   "id": "6b2578b3",
   "metadata": {},
   "source": [
    "`` \n",
    "import pandas as pd  \n",
    "``"
   ]
  },
  {
   "cell_type": "code",
   "execution_count": null,
   "id": "cc96d66f",
   "metadata": {},
   "outputs": [],
   "source": []
  }
 ],
 "metadata": {
  "kernelspec": {
   "display_name": "Python 3 (ipykernel)",
   "language": "python",
   "name": "python3"
  },
  "language_info": {
   "codemirror_mode": {
    "name": "ipython",
    "version": 3
   },
   "file_extension": ".py",
   "mimetype": "text/x-python",
   "name": "python",
   "nbconvert_exporter": "python",
   "pygments_lexer": "ipython3",
   "version": "3.9.7"
  },
  "toc": {
   "base_numbering": 1,
   "nav_menu": {},
   "number_sections": true,
   "sideBar": true,
   "skip_h1_title": false,
   "title_cell": "Table of Contents",
   "title_sidebar": "Contents",
   "toc_cell": false,
   "toc_position": {},
   "toc_section_display": true,
   "toc_window_display": true
  },
  "varInspector": {
   "cols": {
    "lenName": 16,
    "lenType": 16,
    "lenVar": 40
   },
   "kernels_config": {
    "python": {
     "delete_cmd_postfix": "",
     "delete_cmd_prefix": "del ",
     "library": "var_list.py",
     "varRefreshCmd": "print(var_dic_list())"
    },
    "r": {
     "delete_cmd_postfix": ") ",
     "delete_cmd_prefix": "rm(",
     "library": "var_list.r",
     "varRefreshCmd": "cat(var_dic_list()) "
    }
   },
   "types_to_exclude": [
    "module",
    "function",
    "builtin_function_or_method",
    "instance",
    "_Feature"
   ],
   "window_display": false
  }
 },
 "nbformat": 4,
 "nbformat_minor": 5
}
