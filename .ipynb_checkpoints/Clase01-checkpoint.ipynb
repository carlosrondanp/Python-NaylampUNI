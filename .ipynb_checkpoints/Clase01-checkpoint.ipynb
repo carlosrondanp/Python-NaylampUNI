{
 "cells": [
  {
   "cell_type": "markdown",
   "id": "b815c3fa",
   "metadata": {},
   "source": [
    "# Variables y tipos de datos"
   ]
  },
  {
   "cell_type": "markdown",
   "id": "7f580070",
   "metadata": {},
   "source": [
    "**Variable:** Consta de un espacio en la memoria y un símbolo (nombre de la variable, identificador) que está asociado a dicho espacio\n",
    "\n",
    "Asigmanmos los datos sin indicar de qué tipo son. Tipos de datos:\n",
    "* int $\\rightarrow$ Números enteros\n",
    "* float $\\rightarrow$ Números decimales\n",
    "* str $\\rightarrow$ Cadena de texto\n",
    "* bool $\\rightarrow$ True / False"
   ]
  },
  {
   "cell_type": "code",
   "execution_count": 68,
   "id": "70177532",
   "metadata": {},
   "outputs": [
    {
     "data": {
      "text/plain": [
       "4"
      ]
     },
     "execution_count": 68,
     "metadata": {},
     "output_type": "execute_result"
    }
   ],
   "source": [
    "a = 1 + 3\n",
    "a"
   ]
  },
  {
   "cell_type": "code",
   "execution_count": 69,
   "id": "f112f8e8",
   "metadata": {},
   "outputs": [
    {
     "data": {
      "text/plain": [
       "'ASQ'"
      ]
     },
     "execution_count": 69,
     "metadata": {},
     "output_type": "execute_result"
    }
   ],
   "source": [
    "b = 'ASQ'\n",
    "b"
   ]
  },
  {
   "cell_type": "code",
   "execution_count": 70,
   "id": "29075773",
   "metadata": {},
   "outputs": [
    {
     "data": {
      "text/plain": [
       "2.0999"
      ]
     },
     "execution_count": 70,
     "metadata": {},
     "output_type": "execute_result"
    }
   ],
   "source": [
    "c = 2.0999\n",
    "c"
   ]
  },
  {
   "cell_type": "code",
   "execution_count": 71,
   "id": "a66ea43b",
   "metadata": {},
   "outputs": [
    {
     "data": {
      "text/plain": [
       "(int, str, float)"
      ]
     },
     "execution_count": 71,
     "metadata": {},
     "output_type": "execute_result"
    }
   ],
   "source": [
    "#Tipos de datos en Python\n",
    "type(a), type(b), type(c)"
   ]
  },
  {
   "cell_type": "markdown",
   "id": "90175105",
   "metadata": {},
   "source": [
    "<div class=\"alert alert-block alert-warning\">\n",
    "    <b>Nota:</b> Para referirnos a números del tipo float, basta que añadamos un punto decimal. Por ejemplo 3 (int) 3. (float), ambos representan el mismo número\n",
    "</div>"
   ]
  },
  {
   "cell_type": "markdown",
   "id": "a0eb15f9",
   "metadata": {},
   "source": [
    "<div class=\"alert alert-block alert-warning\">\n",
    "    <b>Nota:</b> Operaciones básicas usamos (+) (-) (*) (/) (**)\n",
    "</div>"
   ]
  },
  {
   "cell_type": "markdown",
   "id": "07ce67f6",
   "metadata": {},
   "source": [
    "## Variable String\n",
    "\n",
    "**String** : Cadena de ordenada de caracteres"
   ]
  },
  {
   "cell_type": "code",
   "execution_count": 72,
   "id": "8f277c31",
   "metadata": {},
   "outputs": [
    {
     "data": {
      "text/plain": [
       "'Variable tipo string, comillas dobles'"
      ]
     },
     "execution_count": 72,
     "metadata": {},
     "output_type": "execute_result"
    }
   ],
   "source": [
    "string_1 = \"Variable tipo string, comillas dobles\"\n",
    "string_1"
   ]
  },
  {
   "cell_type": "code",
   "execution_count": 73,
   "id": "eaf17939",
   "metadata": {},
   "outputs": [
    {
     "data": {
      "text/plain": [
       "'Varialbe tipo string, comillas simples'"
      ]
     },
     "execution_count": 73,
     "metadata": {},
     "output_type": "execute_result"
    }
   ],
   "source": [
    "string_2 = 'Varialbe tipo string, comillas simples'\n",
    "string_2"
   ]
  },
  {
   "cell_type": "code",
   "execution_count": 74,
   "id": "95830338",
   "metadata": {},
   "outputs": [
    {
     "data": {
      "text/plain": [
       "(str, str)"
      ]
     },
     "execution_count": 74,
     "metadata": {},
     "output_type": "execute_result"
    }
   ],
   "source": [
    "type(string_1), type(string_2)"
   ]
  },
  {
   "cell_type": "markdown",
   "id": "e28501e6",
   "metadata": {},
   "source": [
    "### Comillas dentro de un string"
   ]
  },
  {
   "cell_type": "code",
   "execution_count": 75,
   "id": "45f96dbf",
   "metadata": {},
   "outputs": [
    {
     "data": {
      "text/plain": [
       "'usaremos \"comillas\" dentro de un string'"
      ]
     },
     "execution_count": 75,
     "metadata": {},
     "output_type": "execute_result"
    }
   ],
   "source": [
    "comillas = 'usaremos \"comillas\" dentro de un string'\n",
    "comillas"
   ]
  },
  {
   "cell_type": "code",
   "execution_count": 76,
   "id": "dd6792a7",
   "metadata": {},
   "outputs": [
    {
     "data": {
      "text/plain": [
       "\"ingresaremos una 'comilla simple'\""
      ]
     },
     "execution_count": 76,
     "metadata": {},
     "output_type": "execute_result"
    }
   ],
   "source": [
    "comillas_forzadas = 'ingresaremos una \\'comilla simple\\''\n",
    "comillas_forzadas"
   ]
  },
  {
   "cell_type": "markdown",
   "id": "56a0b6d8",
   "metadata": {},
   "source": [
    "### print y format"
   ]
  },
  {
   "cell_type": "code",
   "execution_count": 77,
   "id": "a881757d",
   "metadata": {},
   "outputs": [
    {
     "data": {
      "text/plain": [
       "'hola'"
      ]
     },
     "execution_count": 77,
     "metadata": {},
     "output_type": "execute_result"
    }
   ],
   "source": [
    "a = 'hola'\n",
    "a"
   ]
  },
  {
   "cell_type": "code",
   "execution_count": 78,
   "id": "bd454ac1",
   "metadata": {},
   "outputs": [
    {
     "name": "stdout",
     "output_type": "stream",
     "text": [
      "hola\n"
     ]
    }
   ],
   "source": [
    "print(a)"
   ]
  },
  {
   "cell_type": "code",
   "execution_count": 79,
   "id": "544c6b20",
   "metadata": {},
   "outputs": [
    {
     "name": "stdout",
     "output_type": "stream",
     "text": [
      "Mi nombre es Carlos y mi edad es 22 años. Yo manejo el número complejo: (2+3j)\n"
     ]
    }
   ],
   "source": [
    "nombre = 'Carlos'\n",
    "edad = 22\n",
    "complejo = 2 + 3j\n",
    "print('Mi nombre es {} y mi edad es {} años. Yo manejo el número complejo: {}'.format(nombre,edad, complejo))"
   ]
  },
  {
   "cell_type": "markdown",
   "id": "150a0d27",
   "metadata": {},
   "source": [
    "### Substrings"
   ]
  },
  {
   "cell_type": "code",
   "execution_count": 80,
   "id": "8c529101",
   "metadata": {},
   "outputs": [],
   "source": [
    "substring = 'Estas en el curso de Python en Naylamp'"
   ]
  },
  {
   "cell_type": "code",
   "execution_count": 81,
   "id": "707aac80",
   "metadata": {},
   "outputs": [
    {
     "data": {
      "text/plain": [
       "'E'"
      ]
     },
     "execution_count": 81,
     "metadata": {},
     "output_type": "execute_result"
    }
   ],
   "source": [
    "substring[0]"
   ]
  },
  {
   "cell_type": "code",
   "execution_count": 82,
   "id": "f8cffe65",
   "metadata": {},
   "outputs": [
    {
     "data": {
      "text/plain": [
       "'p'"
      ]
     },
     "execution_count": 82,
     "metadata": {},
     "output_type": "execute_result"
    }
   ],
   "source": [
    "substring[-1]"
   ]
  },
  {
   "cell_type": "code",
   "execution_count": 83,
   "id": "602879fb",
   "metadata": {},
   "outputs": [
    {
     "data": {
      "text/plain": [
       "'stas'"
      ]
     },
     "execution_count": 83,
     "metadata": {},
     "output_type": "execute_result"
    }
   ],
   "source": [
    "substring[1:5]"
   ]
  },
  {
   "cell_type": "code",
   "execution_count": 84,
   "id": "d26f3692",
   "metadata": {},
   "outputs": [
    {
     "data": {
      "text/plain": [
       "'as en el curso de Python en Naylamp'"
      ]
     },
     "execution_count": 84,
     "metadata": {},
     "output_type": "execute_result"
    }
   ],
   "source": [
    "substring[3:]"
   ]
  },
  {
   "cell_type": "code",
   "execution_count": 85,
   "id": "f2ddd33a",
   "metadata": {},
   "outputs": [
    {
     "data": {
      "text/plain": [
       "'Estas en el curso de Python en Na'"
      ]
     },
     "execution_count": 85,
     "metadata": {},
     "output_type": "execute_result"
    }
   ],
   "source": [
    "substring[:-5]"
   ]
  },
  {
   "cell_type": "markdown",
   "id": "05be4cd6",
   "metadata": {},
   "source": [
    "## Métodos para trabajar con Strings"
   ]
  },
  {
   "cell_type": "code",
   "execution_count": 98,
   "id": "a386e05f",
   "metadata": {},
   "outputs": [],
   "source": [
    "a = '    APRENDERÁS PYTHON en Naylamp'"
   ]
  },
  {
   "cell_type": "markdown",
   "id": "e9555958",
   "metadata": {},
   "source": [
    "El método ``.lower()`` sirve para poner en minuscula toda la cadena de caracteres"
   ]
  },
  {
   "cell_type": "code",
   "execution_count": 99,
   "id": "9ad67ce6",
   "metadata": {},
   "outputs": [
    {
     "data": {
      "text/plain": [
       "'    aprenderás python en naylamp'"
      ]
     },
     "execution_count": 99,
     "metadata": {},
     "output_type": "execute_result"
    }
   ],
   "source": [
    "a.lower()"
   ]
  },
  {
   "cell_type": "markdown",
   "id": "fa515dc6",
   "metadata": {},
   "source": [
    "El método ``.upper()`` sirve para poner en maypuscua toda la cadena de caracteres"
   ]
  },
  {
   "cell_type": "code",
   "execution_count": 100,
   "id": "54d536cd",
   "metadata": {},
   "outputs": [
    {
     "data": {
      "text/plain": [
       "'    APRENDERÁS PYTHON EN NAYLAMP'"
      ]
     },
     "execution_count": 100,
     "metadata": {},
     "output_type": "execute_result"
    }
   ],
   "source": [
    "a.upper()"
   ]
  },
  {
   "cell_type": "markdown",
   "id": "74c70ada",
   "metadata": {},
   "source": [
    "el método ``.count()`` se usa para contabilidar una o un conjutno de caracteres que se encuentren en el string "
   ]
  },
  {
   "cell_type": "code",
   "execution_count": 101,
   "id": "b1a57b12",
   "metadata": {},
   "outputs": [
    {
     "data": {
      "text/plain": [
       "1"
      ]
     },
     "execution_count": 101,
     "metadata": {},
     "output_type": "execute_result"
    }
   ],
   "source": [
    "a.count('p')"
   ]
  },
  {
   "cell_type": "code",
   "execution_count": 102,
   "id": "c284bba7",
   "metadata": {},
   "outputs": [
    {
     "data": {
      "text/plain": [
       "'    aprenderás python en naylamp'"
      ]
     },
     "execution_count": 102,
     "metadata": {},
     "output_type": "execute_result"
    }
   ],
   "source": [
    "a.capitalize()"
   ]
  },
  {
   "cell_type": "code",
   "execution_count": 103,
   "id": "01c2a01d",
   "metadata": {},
   "outputs": [
    {
     "data": {
      "text/plain": [
       "'    Aprenderás Python En Naylamp'"
      ]
     },
     "execution_count": 103,
     "metadata": {},
     "output_type": "execute_result"
    }
   ],
   "source": [
    "a.title()"
   ]
  },
  {
   "cell_type": "code",
   "execution_count": 104,
   "id": "05f5672e",
   "metadata": {},
   "outputs": [
    {
     "data": {
      "text/plain": [
       "'    APRENDERÁS R en Naylamp'"
      ]
     },
     "execution_count": 104,
     "metadata": {},
     "output_type": "execute_result"
    }
   ],
   "source": [
    "a.replace('PYTHON', 'R')"
   ]
  },
  {
   "cell_type": "code",
   "execution_count": 105,
   "id": "d049277d",
   "metadata": {},
   "outputs": [
    {
     "data": {
      "text/plain": [
       "['    APRE', 'DERÁS PYTHO', ' en ', 'aylamp']"
      ]
     },
     "execution_count": 105,
     "metadata": {},
     "output_type": "execute_result"
    }
   ],
   "source": [
    "a.split('N')"
   ]
  },
  {
   "cell_type": "code",
   "execution_count": 125,
   "id": "f8d92d72",
   "metadata": {},
   "outputs": [
    {
     "data": {
      "text/plain": [
       "['APRENDERÁS', 'PYTHON', 'en', 'Naylamp']"
      ]
     },
     "execution_count": 125,
     "metadata": {},
     "output_type": "execute_result"
    }
   ],
   "source": [
    "a.split()"
   ]
  },
  {
   "cell_type": "markdown",
   "id": "027e435a",
   "metadata": {},
   "source": [
    "El método ``.strip()`` solo elimina los espacios sobrantes del extremo izquierdo y derecho de una cadena de caracteres"
   ]
  },
  {
   "cell_type": "code",
   "execution_count": 126,
   "id": "7059b9ae",
   "metadata": {},
   "outputs": [
    {
     "data": {
      "text/plain": [
       "'APRENDERÁS PYTHON en Naylamp'"
      ]
     },
     "execution_count": 126,
     "metadata": {},
     "output_type": "execute_result"
    }
   ],
   "source": [
    "a.strip()"
   ]
  },
  {
   "cell_type": "code",
   "execution_count": 128,
   "id": "cea41086",
   "metadata": {},
   "outputs": [
    {
     "data": {
      "text/plain": [
       "7"
      ]
     },
     "execution_count": 128,
     "metadata": {},
     "output_type": "execute_result"
    }
   ],
   "source": [
    "a.find('E')"
   ]
  },
  {
   "cell_type": "code",
   "execution_count": 133,
   "id": "1ad4f897",
   "metadata": {},
   "outputs": [
    {
     "data": {
      "text/plain": [
       "7"
      ]
     },
     "execution_count": 133,
     "metadata": {},
     "output_type": "execute_result"
    }
   ],
   "source": [
    "a.index('E')"
   ]
  },
  {
   "cell_type": "code",
   "execution_count": 136,
   "id": "b94333d4",
   "metadata": {},
   "outputs": [
    {
     "data": {
      "text/plain": [
       "32"
      ]
     },
     "execution_count": 136,
     "metadata": {},
     "output_type": "execute_result"
    }
   ],
   "source": [
    "len(a)"
   ]
  },
  {
   "cell_type": "markdown",
   "id": "b523d319",
   "metadata": {},
   "source": [
    "Función ``input()`` usaremos al querer ingresar un string"
   ]
  },
  {
   "cell_type": "code",
   "execution_count": 138,
   "id": "ad0efe6d",
   "metadata": {},
   "outputs": [
    {
     "name": "stdout",
     "output_type": "stream",
     "text": [
      "Carlos Rondan Poma\n"
     ]
    }
   ],
   "source": [
    "nombre = input()"
   ]
  },
  {
   "cell_type": "code",
   "execution_count": 140,
   "id": "03009a56",
   "metadata": {},
   "outputs": [
    {
     "data": {
      "text/plain": [
       "'Carlos Rondan Poma'"
      ]
     },
     "execution_count": 140,
     "metadata": {},
     "output_type": "execute_result"
    }
   ],
   "source": [
    "nombre"
   ]
  },
  {
   "cell_type": "code",
   "execution_count": 142,
   "id": "18d3a234",
   "metadata": {},
   "outputs": [
    {
     "name": "stdout",
     "output_type": "stream",
     "text": [
      "Ingrese su nombre: Carlos Rondan Poma\n",
      "Ingrese su edad : 22\n"
     ]
    }
   ],
   "source": [
    "nombre = input('Ingrese su nombre: ')\n",
    "edad = int(input('Ingrese su edad : '))"
   ]
  },
  {
   "cell_type": "code",
   "execution_count": 143,
   "id": "30144f01",
   "metadata": {},
   "outputs": [
    {
     "name": "stdout",
     "output_type": "stream",
     "text": [
      "La edad de Carlos Rondan Poma es 22\n"
     ]
    }
   ],
   "source": [
    "print('La edad de {} es {}'.format(nombre,edad))"
   ]
  },
  {
   "cell_type": "code",
   "execution_count": null,
   "id": "413dcd6d",
   "metadata": {},
   "outputs": [],
   "source": []
  },
  {
   "cell_type": "markdown",
   "id": "d149f715",
   "metadata": {},
   "source": [
    "## Ejemplo\n",
    "\n",
    "Calcular el índice de masa corporal $IMC = \\frac{Peso\\ [kg]}{altura^2\\ [m^2]}$"
   ]
  },
  {
   "cell_type": "code",
   "execution_count": 26,
   "id": "8ec4f8e0",
   "metadata": {
    "scrolled": true
   },
   "outputs": [
    {
     "name": "stdout",
     "output_type": "stream",
     "text": [
      "El usuario \"Carlos Rondan\" con peso de 80 kg y altura 1.9 metros tiene un indice de masa corporal igual a 22.1606648199446 kg/(m^2)\n"
     ]
    }
   ],
   "source": [
    "nombre = 'Carlos Rondan'\n",
    "peso = 80\n",
    "altura = 1.9 \n",
    "IMC = peso/(altura**2)\n",
    "print('El usuario \\\"{}\\\" con peso de {} kg y altura {} metros tiene un indice de masa corporal igual a {} kg/(m^2)'.format(nombre,\n",
    "                                                                                                     peso,\n",
    "                                                                                                     altura,\n",
    "                                                                                                     IMC))"
   ]
  },
  {
   "cell_type": "markdown",
   "id": "193a60de",
   "metadata": {},
   "source": [
    "## Casting (convertir tipo de número)"
   ]
  },
  {
   "cell_type": "code",
   "execution_count": 27,
   "id": "fd30d961",
   "metadata": {},
   "outputs": [
    {
     "data": {
      "text/plain": [
       "(float, int)"
      ]
     },
     "execution_count": 27,
     "metadata": {},
     "output_type": "execute_result"
    }
   ],
   "source": [
    "type(8.0),type(int(8.5))"
   ]
  },
  {
   "cell_type": "code",
   "execution_count": 28,
   "id": "82925402",
   "metadata": {},
   "outputs": [
    {
     "data": {
      "text/plain": [
       "8"
      ]
     },
     "execution_count": 28,
     "metadata": {},
     "output_type": "execute_result"
    }
   ],
   "source": [
    "int(8.5)"
   ]
  },
  {
   "cell_type": "code",
   "execution_count": 29,
   "id": "dc4850aa",
   "metadata": {},
   "outputs": [
    {
     "data": {
      "text/plain": [
       "(int, float)"
      ]
     },
     "execution_count": 29,
     "metadata": {},
     "output_type": "execute_result"
    }
   ],
   "source": [
    "type(2), type(float(2))"
   ]
  },
  {
   "cell_type": "code",
   "execution_count": 30,
   "id": "5863387a",
   "metadata": {},
   "outputs": [
    {
     "data": {
      "text/plain": [
       "float"
      ]
     },
     "execution_count": 30,
     "metadata": {},
     "output_type": "execute_result"
    }
   ],
   "source": [
    "type(float('1'))"
   ]
  },
  {
   "cell_type": "code",
   "execution_count": 31,
   "id": "659c6df6",
   "metadata": {},
   "outputs": [
    {
     "data": {
      "text/plain": [
       "int"
      ]
     },
     "execution_count": 31,
     "metadata": {},
     "output_type": "execute_result"
    }
   ],
   "source": [
    "type(int('1'))"
   ]
  },
  {
   "cell_type": "code",
   "execution_count": 32,
   "id": "07a8567e",
   "metadata": {},
   "outputs": [
    {
     "data": {
      "text/plain": [
       "complex"
      ]
     },
     "execution_count": 32,
     "metadata": {},
     "output_type": "execute_result"
    }
   ],
   "source": [
    "type(5j)"
   ]
  },
  {
   "cell_type": "markdown",
   "id": "cc1dd944",
   "metadata": {},
   "source": [
    "<div class=\"alert alert-block alert-danger\">\n",
    "    <b>Nota:</b> Cuando usamos int() en un número flotante esta trunca al número, por ejemplo, int(8.5) $\\rightarrow$ 8.  En este caso se ha truncado, por lo que, hemos perdido información\n",
    "</div>"
   ]
  },
  {
   "cell_type": "markdown",
   "id": "a2efeb62",
   "metadata": {},
   "source": [
    "# Creación de listas\n",
    "Litas: es una colección de valores de cualquier tipo"
   ]
  },
  {
   "cell_type": "code",
   "execution_count": 148,
   "id": "c00c5141",
   "metadata": {},
   "outputs": [
    {
     "data": {
      "text/plain": [
       "[10, 20, 30, 40, 'Carlos']"
      ]
     },
     "execution_count": 148,
     "metadata": {},
     "output_type": "execute_result"
    }
   ],
   "source": [
    "lista_1 = [10,20,30,40, 'Carlos']\n",
    "lista_1"
   ]
  },
  {
   "cell_type": "markdown",
   "id": "a9eb3d1a",
   "metadata": {},
   "source": [
    "`` \n",
    "[10, 20, 30, 40, 'Carlos']\n",
    "  0   1   2   3     4\n",
    " -5  -4  -3  -2    -1\n",
    "``\n",
    "\n",
    "Por lo tanto, si llamamos a `lista_1[3]` debería recibir de output `40`"
   ]
  },
  {
   "cell_type": "code",
   "execution_count": 149,
   "id": "f4e7595c",
   "metadata": {},
   "outputs": [
    {
     "data": {
      "text/plain": [
       "40"
      ]
     },
     "execution_count": 149,
     "metadata": {},
     "output_type": "execute_result"
    }
   ],
   "source": [
    "lista_1[3]"
   ]
  },
  {
   "cell_type": "markdown",
   "id": "df485c45",
   "metadata": {},
   "source": [
    "## Cómo añadir o quitar valores de una lista\n",
    "1. añadir\n",
    "2. quitar"
   ]
  },
  {
   "cell_type": "code",
   "execution_count": 150,
   "id": "482347c4",
   "metadata": {},
   "outputs": [
    {
     "data": {
      "text/plain": [
       "[10, 20, 30, 40, 'Carlos', 1, 2, 3]"
      ]
     },
     "execution_count": 150,
     "metadata": {},
     "output_type": "execute_result"
    }
   ],
   "source": [
    "lista_1 = lista_1 + [1,2,3]\n",
    "lista_1"
   ]
  },
  {
   "cell_type": "code",
   "execution_count": 151,
   "id": "dabe389e",
   "metadata": {},
   "outputs": [
    {
     "data": {
      "text/plain": [
       "[10, 20, 30, 40, 'Carlos', 1, 2, 3, 2]"
      ]
     },
     "execution_count": 151,
     "metadata": {},
     "output_type": "execute_result"
    }
   ],
   "source": [
    "lista_1.append(2)\n",
    "lista_1"
   ]
  },
  {
   "cell_type": "code",
   "execution_count": 152,
   "id": "481df178",
   "metadata": {},
   "outputs": [
    {
     "data": {
      "text/plain": [
       "[10, 20, 30, 40, 'Carlos', 'aqui es la voz', 1, 2, 3, 2]"
      ]
     },
     "execution_count": 152,
     "metadata": {},
     "output_type": "execute_result"
    }
   ],
   "source": [
    "lista_1.insert(5,'aqui es la voz')\n",
    "lista_1"
   ]
  },
  {
   "cell_type": "code",
   "execution_count": null,
   "id": "dbb2efd4",
   "metadata": {},
   "outputs": [],
   "source": []
  },
  {
   "cell_type": "markdown",
   "id": "2d386300",
   "metadata": {},
   "source": [
    "***"
   ]
  },
  {
   "cell_type": "code",
   "execution_count": 37,
   "id": "f55dd24e",
   "metadata": {},
   "outputs": [
    {
     "data": {
      "text/plain": [
       "[10, 20, 30, 40, 1, 2, 3, 2]"
      ]
     },
     "execution_count": 37,
     "metadata": {},
     "output_type": "execute_result"
    }
   ],
   "source": [
    "lista_1.remove('Carlos')\n",
    "lista_1"
   ]
  },
  {
   "cell_type": "markdown",
   "id": "07c4002e",
   "metadata": {},
   "source": [
    "## Crear nuevas listas\n",
    "1. Por punteros (dependientes)\n",
    "2. Por la función `list()` (independientes)"
   ]
  },
  {
   "cell_type": "code",
   "execution_count": 38,
   "id": "0e54ac10",
   "metadata": {},
   "outputs": [
    {
     "data": {
      "text/plain": [
       "[1, 2, 3]"
      ]
     },
     "execution_count": 38,
     "metadata": {},
     "output_type": "execute_result"
    }
   ],
   "source": [
    "x = [1,2,3]\n",
    "x"
   ]
  },
  {
   "cell_type": "code",
   "execution_count": 39,
   "id": "c21a06bd",
   "metadata": {},
   "outputs": [
    {
     "data": {
      "text/plain": [
       "[1, 2, 3]"
      ]
     },
     "execution_count": 39,
     "metadata": {},
     "output_type": "execute_result"
    }
   ],
   "source": [
    "y = x\n",
    "y"
   ]
  },
  {
   "cell_type": "code",
   "execution_count": 40,
   "id": "40e91361",
   "metadata": {},
   "outputs": [
    {
     "data": {
      "text/plain": [
       "([1, 100, 3], [1, 100, 3])"
      ]
     },
     "execution_count": 40,
     "metadata": {},
     "output_type": "execute_result"
    }
   ],
   "source": [
    "y[1] = 100\n",
    "x, y"
   ]
  },
  {
   "cell_type": "markdown",
   "id": "7d641e2d",
   "metadata": {},
   "source": [
    "***"
   ]
  },
  {
   "cell_type": "code",
   "execution_count": 41,
   "id": "f29d98b9",
   "metadata": {},
   "outputs": [
    {
     "data": {
      "text/plain": [
       "[1, 2, 3]"
      ]
     },
     "execution_count": 41,
     "metadata": {},
     "output_type": "execute_result"
    }
   ],
   "source": [
    "x = [1,2,3]\n",
    "x"
   ]
  },
  {
   "cell_type": "code",
   "execution_count": 42,
   "id": "2059e6fb",
   "metadata": {},
   "outputs": [],
   "source": [
    "z = list(x)"
   ]
  },
  {
   "cell_type": "code",
   "execution_count": 43,
   "id": "6d29cf6a",
   "metadata": {},
   "outputs": [
    {
     "data": {
      "text/plain": [
       "([1, 2, 3], [1, 2, 'cambio'])"
      ]
     },
     "execution_count": 43,
     "metadata": {},
     "output_type": "execute_result"
    }
   ],
   "source": [
    "z[2] = 'cambio'\n",
    "x, z"
   ]
  },
  {
   "cell_type": "markdown",
   "id": "3e252592",
   "metadata": {},
   "source": [
    "# Funciones \n",
    "``\n",
    "def nombre_función(arg_1,arg_2):\n",
    "    %codigo\n",
    "    return resultado\n",
    "``"
   ]
  },
  {
   "cell_type": "code",
   "execution_count": 44,
   "id": "d1bafee9",
   "metadata": {},
   "outputs": [],
   "source": [
    "def primera_funcion(base, exponente):\n",
    "    resultado = base ** exponente\n",
    "    return resultado"
   ]
  },
  {
   "cell_type": "code",
   "execution_count": 45,
   "id": "419451bc",
   "metadata": {},
   "outputs": [
    {
     "data": {
      "text/plain": [
       "1024"
      ]
     },
     "execution_count": 45,
     "metadata": {},
     "output_type": "execute_result"
    }
   ],
   "source": [
    "primera_funcion(2,10)"
   ]
  },
  {
   "cell_type": "code",
   "execution_count": 46,
   "id": "fc6de2db",
   "metadata": {},
   "outputs": [
    {
     "data": {
      "text/plain": [
       "515377520732011331036461129765621272702107522001"
      ]
     },
     "execution_count": 46,
     "metadata": {},
     "output_type": "execute_result"
    }
   ],
   "source": [
    "primera_funcion(3,100)"
   ]
  },
  {
   "cell_type": "markdown",
   "id": "c97da830",
   "metadata": {},
   "source": [
    "<div class=\"alert alert-block alert-warning\">\n",
    "<b>Nota:</b> Es posible tener argumentos flexibles o número de parámetros no determinados\n",
    "</div>\n",
    "\n",
    "``\n",
    "def funcion (*args):\n",
    "    %codigo\n",
    "    return resultado\n",
    "``\n"
   ]
  },
  {
   "cell_type": "code",
   "execution_count": 47,
   "id": "9990d2a2",
   "metadata": {},
   "outputs": [],
   "source": [
    "def flexible(*args):\n",
    "    mult_todos = 1\n",
    "    for n in args:\n",
    "        mult_todos = mult_todos * n\n",
    "    \n",
    "    return mult_todos"
   ]
  },
  {
   "cell_type": "code",
   "execution_count": 48,
   "id": "dadfc449",
   "metadata": {},
   "outputs": [
    {
     "data": {
      "text/plain": [
       "1"
      ]
     },
     "execution_count": 48,
     "metadata": {},
     "output_type": "execute_result"
    }
   ],
   "source": [
    "flexible(1)"
   ]
  },
  {
   "cell_type": "code",
   "execution_count": 49,
   "id": "ee1cad5e",
   "metadata": {},
   "outputs": [
    {
     "data": {
      "text/plain": [
       "6"
      ]
     },
     "execution_count": 49,
     "metadata": {},
     "output_type": "execute_result"
    }
   ],
   "source": [
    "flexible(2,3)"
   ]
  },
  {
   "cell_type": "code",
   "execution_count": 50,
   "id": "ac8b948a",
   "metadata": {},
   "outputs": [
    {
     "data": {
      "text/plain": [
       "24"
      ]
     },
     "execution_count": 50,
     "metadata": {},
     "output_type": "execute_result"
    }
   ],
   "source": [
    "flexible(2,3,4)"
   ]
  },
  {
   "cell_type": "markdown",
   "id": "c82a7fca",
   "metadata": {},
   "source": [
    "<div class=\"alert alert-block alert-success\">\n",
    "<b>función lambda:</b>  Nombre_función = lambda arg_1, arg_2 ..: código función\n",
    "</div>"
   ]
  },
  {
   "cell_type": "code",
   "execution_count": 51,
   "id": "9dad1d52",
   "metadata": {},
   "outputs": [
    {
     "data": {
      "text/plain": [
       "16"
      ]
     },
     "execution_count": 51,
     "metadata": {},
     "output_type": "execute_result"
    }
   ],
   "source": [
    "potencia = lambda base, exponente: base** exponente\n",
    "potencia(2,4)"
   ]
  },
  {
   "cell_type": "markdown",
   "id": "fc1074e7",
   "metadata": {},
   "source": [
    "<div class=\"alert alert-block alert-info\">\n",
    "<b>Función map:</b> map(func, secuencia): Aplica la función a todos los elementos de una secuencia (lista, columna de dataframe, etc...)\n",
    "</div>"
   ]
  },
  {
   "cell_type": "code",
   "execution_count": 52,
   "id": "3ebf7bbf",
   "metadata": {},
   "outputs": [
    {
     "data": {
      "text/plain": [
       "[16, 25, 4]"
      ]
     },
     "execution_count": 52,
     "metadata": {},
     "output_type": "execute_result"
    }
   ],
   "source": [
    "lista = [4,5,2]\n",
    "lista_cuadrado = map(lambda x: x**2, lista)\n",
    "list(lista_cuadrado)"
   ]
  },
  {
   "cell_type": "markdown",
   "id": "134eab22",
   "metadata": {},
   "source": [
    "## Ejemplito\n",
    "\n",
    "Convertir una lista de precios dólares a precios éuros"
   ]
  },
  {
   "cell_type": "code",
   "execution_count": 53,
   "id": "09a2d50b",
   "metadata": {},
   "outputs": [
    {
     "data": {
      "text/plain": [
       "[10.82, 11.95, 14.49, 24.95]"
      ]
     },
     "execution_count": 53,
     "metadata": {},
     "output_type": "execute_result"
    }
   ],
   "source": [
    "precios_dolar = [10.82, 11.95, 14.49, 24.95]\n",
    "precios_dolar"
   ]
  },
  {
   "cell_type": "code",
   "execution_count": 54,
   "id": "da0b0ffa",
   "metadata": {},
   "outputs": [
    {
     "data": {
      "text/plain": [
       "[9.836363636363636, 10.863636363636362, 13.172727272727272, 22.68181818181818]"
      ]
     },
     "execution_count": 54,
     "metadata": {},
     "output_type": "execute_result"
    }
   ],
   "source": [
    "precios_euros = map(lambda x: x/1.1, precios_dolar)\n",
    "list(precios_euros)"
   ]
  },
  {
   "cell_type": "markdown",
   "id": "d5a4404f",
   "metadata": {},
   "source": [
    "# Diccionarios\n",
    "Undiccionario es un objeto que nos proporciona un listado `<clave> : <valor>`\n",
    "\n",
    "``\n",
    "nombre_diccionario = {'clave_1': valor_1,\n",
    "                      'clave_2': valor_2}\n",
    "`` "
   ]
  },
  {
   "cell_type": "code",
   "execution_count": 55,
   "id": "e632aea5",
   "metadata": {},
   "outputs": [],
   "source": [
    "registro_dic = {'Carlos': 12,\n",
    "                'Jhon' : 13,\n",
    "                'Enrique': 10,\n",
    "                'Verónica': 15}"
   ]
  },
  {
   "cell_type": "code",
   "execution_count": 56,
   "id": "4a896582",
   "metadata": {},
   "outputs": [
    {
     "data": {
      "text/plain": [
       "15"
      ]
     },
     "execution_count": 56,
     "metadata": {},
     "output_type": "execute_result"
    }
   ],
   "source": [
    "registro_dic['Verónica']"
   ]
  },
  {
   "cell_type": "markdown",
   "id": "179e9c66",
   "metadata": {},
   "source": [
    "La facilidad radica en usar la indexación por claves, de esta forma no dependemos del orden en el que ingresamos el registro"
   ]
  },
  {
   "cell_type": "code",
   "execution_count": 57,
   "id": "ea65e635",
   "metadata": {},
   "outputs": [],
   "source": [
    "nom_alumnos = ['Carlos',\n",
    "              'Jhon',\n",
    "              'Enrique',\n",
    "              'Verónica']\n",
    "notas = [12,13,10,15]"
   ]
  },
  {
   "cell_type": "code",
   "execution_count": 58,
   "id": "6df788ec",
   "metadata": {},
   "outputs": [
    {
     "data": {
      "text/plain": [
       "1"
      ]
     },
     "execution_count": 58,
     "metadata": {},
     "output_type": "execute_result"
    }
   ],
   "source": [
    "indice_jhon = nom_alumnos.index('Jhon')\n",
    "indice_jhon"
   ]
  },
  {
   "cell_type": "code",
   "execution_count": 59,
   "id": "c2bfaf58",
   "metadata": {},
   "outputs": [
    {
     "data": {
      "text/plain": [
       "13"
      ]
     },
     "execution_count": 59,
     "metadata": {},
     "output_type": "execute_result"
    }
   ],
   "source": [
    "notas[1]"
   ]
  },
  {
   "cell_type": "markdown",
   "id": "ccf8d11c",
   "metadata": {},
   "source": [
    "## Convertir listas en diccionario"
   ]
  },
  {
   "cell_type": "code",
   "execution_count": 60,
   "id": "3ed6f35a",
   "metadata": {},
   "outputs": [],
   "source": [
    "mercados = ['La victoria', 'Huamantanga','Santa Anita','San José']"
   ]
  },
  {
   "cell_type": "code",
   "execution_count": 61,
   "id": "a46d70b6",
   "metadata": {},
   "outputs": [],
   "source": [
    "desperdicio = [47000, 128000, 32000,50000]"
   ]
  },
  {
   "cell_type": "code",
   "execution_count": 62,
   "id": "d73064b7",
   "metadata": {},
   "outputs": [],
   "source": [
    "dic_desperdicio = dict((zip(mercados,desperdicio)))"
   ]
  },
  {
   "cell_type": "code",
   "execution_count": 63,
   "id": "0186c483",
   "metadata": {},
   "outputs": [
    {
     "data": {
      "text/plain": [
       "{'La victoria': 47000,\n",
       " 'Huamantanga': 128000,\n",
       " 'Santa Anita': 32000,\n",
       " 'San José': 50000}"
      ]
     },
     "execution_count": 63,
     "metadata": {},
     "output_type": "execute_result"
    }
   ],
   "source": [
    "dic_desperdicio"
   ]
  },
  {
   "cell_type": "code",
   "execution_count": 64,
   "id": "de5af74c",
   "metadata": {},
   "outputs": [
    {
     "data": {
      "text/plain": [
       "128000"
      ]
     },
     "execution_count": 64,
     "metadata": {},
     "output_type": "execute_result"
    }
   ],
   "source": [
    "dic_desperdicio['Huamantanga']"
   ]
  },
  {
   "cell_type": "markdown",
   "id": "c460b5d1",
   "metadata": {},
   "source": [
    "# Operadores lógicos"
   ]
  },
  {
   "cell_type": "markdown",
   "id": "490ac6a7",
   "metadata": {},
   "source": [
    "## Comparadores\n",
    "|Comparador|Significado|\n",
    "|-|-|\n",
    "|<|Menor que|\n",
    "|>|Mayor que|\n",
    "|<=|Menor o igual que|\n",
    "|>=|Mayor o igual que|\n",
    "|==|igual que|\n",
    "|!=|No igual que|\n",
    "\n",
    "## Booleanos\n",
    "|bool|Significado|\n",
    "|-|-|\n",
    "|and|Retorna verdadero si ambas condiciones son verdaderas|\n",
    "|or|Retorna verdadero si algunas o ambas condiciones son verdaderas|\n",
    "|not|Retorna verdadero si la condición es falsa y viceversa|\n"
   ]
  },
  {
   "cell_type": "markdown",
   "id": "3ac8e7e4",
   "metadata": {},
   "source": [
    "# Operadores de decisión"
   ]
  },
  {
   "cell_type": "markdown",
   "id": "49147efa",
   "metadata": {},
   "source": [
    "Usaremos ``if`` cuando queremos comprobar una determinada condición"
   ]
  },
  {
   "cell_type": "code",
   "execution_count": 27,
   "id": "00aa8230",
   "metadata": {},
   "outputs": [
    {
     "name": "stdout",
     "output_type": "stream",
     "text": [
      "El score -1 no es válido\n"
     ]
    }
   ],
   "source": [
    "score =-1\n",
    "\n",
    "if (score >= 0 and score <  0.2):\n",
    "    print('rojo')\n",
    "elif (score >= 0.2 and score < 0.8):\n",
    "    print('amarillo')\n",
    "elif (score >= 0.8 and score <= 1):\n",
    "    print('verde')\n",
    "else:\n",
    "    print('El score {} no es válido'.format(score))"
   ]
  },
  {
   "cell_type": "code",
   "execution_count": 28,
   "id": "90a1f4ff",
   "metadata": {},
   "outputs": [
    {
     "name": "stdout",
     "output_type": "stream",
     "text": [
      "El score -1 no es válido\n"
     ]
    }
   ],
   "source": [
    "score = -1\n",
    "\n",
    "if (score >= 0 and score <  0.2):\n",
    "    print('rojo')\n",
    "else:\n",
    "    if (score >= 0.2 and score < 0.8):\n",
    "        print('amarillo')\n",
    "    else:\n",
    "        if (score >= 0.8 and score <= 1):\n",
    "            print('verde')\n",
    "        else:\n",
    "            print('El score {} no es válido'.format(score))"
   ]
  },
  {
   "cell_type": "code",
   "execution_count": null,
   "id": "7172ba28",
   "metadata": {},
   "outputs": [],
   "source": []
  },
  {
   "cell_type": "code",
   "execution_count": null,
   "id": "47c119e3",
   "metadata": {},
   "outputs": [],
   "source": []
  },
  {
   "cell_type": "markdown",
   "id": "f70c6420",
   "metadata": {},
   "source": [
    "# Bucles"
   ]
  },
  {
   "cell_type": "markdown",
   "id": "db6f6818",
   "metadata": {},
   "source": [
    "## While\n",
    "La lógica de ``while`` es que, mientras la condición sea verdadera, continuaremos realizando la repetición"
   ]
  },
  {
   "cell_type": "code",
   "execution_count": 4,
   "id": "1f565cf2",
   "metadata": {},
   "outputs": [
    {
     "name": "stdout",
     "output_type": "stream",
     "text": [
      "10\n",
      "9\n",
      "8\n",
      "7\n",
      "6\n",
      "5\n",
      "4\n",
      "3\n",
      "2\n",
      "1\n"
     ]
    }
   ],
   "source": [
    "i = 10\n",
    "while i>0:\n",
    "    print(i)\n",
    "    i = i - 1"
   ]
  },
  {
   "cell_type": "markdown",
   "id": "bbca344a",
   "metadata": {},
   "source": [
    "<div class=\"alert alert-block alert-danger\">\n",
    "<b>Nota:</b> Tener cuidado con los bucles infinitos\n",
    "</div>"
   ]
  },
  {
   "cell_type": "markdown",
   "id": "8be143d8",
   "metadata": {},
   "source": [
    "### Ejemplo\n",
    "\n",
    "Contabilidar cuántas vocales hay en ``\"aprenderás python en Naylamp y te servirá para redes neuronales\"``"
   ]
  },
  {
   "cell_type": "code",
   "execution_count": 9,
   "id": "4034e323",
   "metadata": {},
   "outputs": [
    {
     "name": "stdout",
     "output_type": "stream",
     "text": [
      "el texto tiene 19 vocales\n"
     ]
    }
   ],
   "source": [
    "texto = 'aprenderás python en Naylamp y te servirá para redes neuronales'\n",
    "\n",
    "i = 0\n",
    "contador = 0\n",
    "while i < len(texto):\n",
    "    if texto[i] == 'a' or texto[i] == 'e' or texto[i] == 'i' or texto[i] == 'o' or texto[i] == 'u':\n",
    "        contador = contador + 1\n",
    "    i = i + 1\n",
    "    \n",
    "    \n",
    "print('el texto tiene {} vocales'.format(contador))"
   ]
  },
  {
   "cell_type": "markdown",
   "id": "6eef919f",
   "metadata": {},
   "source": [
    "## For\n",
    "En ``for``, para todos los elementos de la clave, seguiremos realizando las líneas de bucle"
   ]
  },
  {
   "cell_type": "code",
   "execution_count": 29,
   "id": "da3cedad",
   "metadata": {},
   "outputs": [
    {
     "name": "stdout",
     "output_type": "stream",
     "text": [
      "0\n",
      "1\n",
      "2\n"
     ]
    }
   ],
   "source": [
    "for i in range(3):\n",
    "    print(i)"
   ]
  },
  {
   "cell_type": "code",
   "execution_count": 30,
   "id": "d1d28f6d",
   "metadata": {},
   "outputs": [
    {
     "name": "stdout",
     "output_type": "stream",
     "text": [
      "1\n",
      "2\n"
     ]
    }
   ],
   "source": [
    "for i in range(1,3):\n",
    "    print(i)"
   ]
  },
  {
   "cell_type": "code",
   "execution_count": 32,
   "id": "ae3119f7",
   "metadata": {},
   "outputs": [
    {
     "name": "stdout",
     "output_type": "stream",
     "text": [
      "1\n",
      "3\n"
     ]
    }
   ],
   "source": [
    "for i in range(1,5,2):\n",
    "    print(i)"
   ]
  },
  {
   "cell_type": "markdown",
   "id": "fb6b35e0",
   "metadata": {},
   "source": [
    "## Ejemplo"
   ]
  },
  {
   "cell_type": "code",
   "execution_count": 51,
   "id": "fca3abfb",
   "metadata": {},
   "outputs": [
    {
     "name": "stdout",
     "output_type": "stream",
     "text": [
      "Las notas de Luisa son: \n",
      "notas: 15\n",
      "notas: 12\n",
      "notas: 11\n",
      "Las notas de Luisa son: \n",
      "notas: 11\n",
      "notas: 10\n",
      "notas: 20\n",
      "Las notas de Luisa son: \n",
      "notas: 5\n",
      "notas: 20\n",
      "notas: 18\n"
     ]
    }
   ],
   "source": [
    "nombres = ['Carlos','Luisa','Estefany']\n",
    "notas = [[15,12,11],\n",
    "         [11,10,20],\n",
    "         [5,20,18]]\n",
    "\n",
    "for i in range(len(nombres)):\n",
    "    print('Las notas de {} son: '.format(nombres[1]))\n",
    "    for j in range(len(notas)):\n",
    "        print('notas: {}'.format(notas[i][j]))\n",
    "        "
   ]
  },
  {
   "cell_type": "code",
   "execution_count": null,
   "id": "115ad711",
   "metadata": {},
   "outputs": [],
   "source": []
  },
  {
   "cell_type": "code",
   "execution_count": null,
   "id": "376f1b64",
   "metadata": {},
   "outputs": [],
   "source": []
  },
  {
   "cell_type": "code",
   "execution_count": null,
   "id": "35f2fe7a",
   "metadata": {},
   "outputs": [],
   "source": []
  },
  {
   "cell_type": "code",
   "execution_count": null,
   "id": "11d691a0",
   "metadata": {},
   "outputs": [],
   "source": []
  },
  {
   "cell_type": "code",
   "execution_count": null,
   "id": "fd4e5b27",
   "metadata": {},
   "outputs": [],
   "source": []
  },
  {
   "cell_type": "markdown",
   "id": "ac723776",
   "metadata": {},
   "source": [
    "<div class=\"alert alert-block alert-info\">\n",
    "<b>Ojito:</b> Las listas son chevere\n",
    "</div>"
   ]
  },
  {
   "cell_type": "markdown",
   "id": "252a5499",
   "metadata": {},
   "source": [
    "<div class=\"alert alert-block alert-warning\">\n",
    "<b>Example:</b> Use yellow boxes for examples that are not \n",
    "inside code cells, or use for mathematical formulas if needed.\n",
    "</div>"
   ]
  },
  {
   "cell_type": "markdown",
   "id": "d0b04eb8",
   "metadata": {},
   "source": [
    "<div class=\"alert alert-block alert-success\">\n",
    "<b>Up to you:</b> Use green boxes sparingly, and only for some specific \n",
    "purpose that the other boxes can't cover. For example, if you have a lot \n",
    "of related content to link to, maybe you decide to use green boxes for \n",
    "related links from each section of a notebook.\n",
    "</div>"
   ]
  },
  {
   "cell_type": "markdown",
   "id": "748cbf4f",
   "metadata": {},
   "source": [
    "<div class=\"alert alert-block alert-danger\">\n",
    "<b>Just don't:</b> In general, avoid the red boxes. These should only be\n",
    "used for actions that might cause data loss or another major issue.\n",
    "</div>"
   ]
  },
  {
   "cell_type": "markdown",
   "id": "a5627b4d",
   "metadata": {},
   "source": [
    "***"
   ]
  },
  {
   "cell_type": "markdown",
   "id": "6b2578b3",
   "metadata": {},
   "source": [
    "`` \n",
    "import pandas as pd  \n",
    "``"
   ]
  },
  {
   "cell_type": "code",
   "execution_count": null,
   "id": "cc96d66f",
   "metadata": {},
   "outputs": [],
   "source": []
  }
 ],
 "metadata": {
  "kernelspec": {
   "display_name": "Python 3 (ipykernel)",
   "language": "python",
   "name": "python3"
  },
  "language_info": {
   "codemirror_mode": {
    "name": "ipython",
    "version": 3
   },
   "file_extension": ".py",
   "mimetype": "text/x-python",
   "name": "python",
   "nbconvert_exporter": "python",
   "pygments_lexer": "ipython3",
   "version": "3.9.7"
  },
  "toc": {
   "base_numbering": 1,
   "nav_menu": {},
   "number_sections": true,
   "sideBar": true,
   "skip_h1_title": false,
   "title_cell": "Table of Contents",
   "title_sidebar": "Contents",
   "toc_cell": false,
   "toc_position": {},
   "toc_section_display": true,
   "toc_window_display": true
  },
  "varInspector": {
   "cols": {
    "lenName": 16,
    "lenType": 16,
    "lenVar": 40
   },
   "kernels_config": {
    "python": {
     "delete_cmd_postfix": "",
     "delete_cmd_prefix": "del ",
     "library": "var_list.py",
     "varRefreshCmd": "print(var_dic_list())"
    },
    "r": {
     "delete_cmd_postfix": ") ",
     "delete_cmd_prefix": "rm(",
     "library": "var_list.r",
     "varRefreshCmd": "cat(var_dic_list()) "
    }
   },
   "types_to_exclude": [
    "module",
    "function",
    "builtin_function_or_method",
    "instance",
    "_Feature"
   ],
   "window_display": false
  }
 },
 "nbformat": 4,
 "nbformat_minor": 5
}
