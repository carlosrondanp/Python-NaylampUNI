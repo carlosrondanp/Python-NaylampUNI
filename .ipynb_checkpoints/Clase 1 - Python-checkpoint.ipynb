{
 "cells": [
  {
   "cell_type": "markdown",
   "id": "4ecf5fbc",
   "metadata": {},
   "source": [
    "# Variables y tipos de datos\n",
    "**Variable:** Consta de un espacio en la memoria y uns ímbolo (nombre de la variable, identificador) que está asociado a dicho espacio.\n",
    "\n",
    "Asignamos los datos sin indicar de qué tipo son. Tipos de datos:\n",
    "* ``int`` $\\longrightarrow$ Números enteros\n",
    "* ``float``  $\\longrightarrow$ Números decimales\n",
    "* ``str``  $\\longrightarrow$ Cadena de caracteres\n",
    "* ``bool``  $\\longrightarrow$ True/false"
   ]
  },
  {
   "cell_type": "code",
   "execution_count": 9,
   "id": "352dfc7b",
   "metadata": {},
   "outputs": [
    {
     "data": {
      "text/plain": [
       "4"
      ]
     },
     "execution_count": 9,
     "metadata": {},
     "output_type": "execute_result"
    }
   ],
   "source": [
    "# Tipo de datos entero (int)\n",
    "a = 1 + 3\n",
    "a"
   ]
  },
  {
   "cell_type": "code",
   "execution_count": 10,
   "id": "b07637b3",
   "metadata": {},
   "outputs": [
    {
     "data": {
      "text/plain": [
       "'Naylamp'"
      ]
     },
     "execution_count": 10,
     "metadata": {},
     "output_type": "execute_result"
    }
   ],
   "source": [
    "# tipo de tado cadena de caracteres (str)\n",
    "b = 'Naylamp'\n",
    "b"
   ]
  },
  {
   "cell_type": "code",
   "execution_count": 11,
   "id": "632f5067",
   "metadata": {},
   "outputs": [
    {
     "data": {
      "text/plain": [
       "2.0908989868"
      ]
     },
     "execution_count": 11,
     "metadata": {},
     "output_type": "execute_result"
    }
   ],
   "source": [
    "# Tipo de dato decimal (float)\n",
    "c = 2.0908989868\n",
    "c"
   ]
  },
  {
   "cell_type": "code",
   "execution_count": 12,
   "id": "be5dd0b8",
   "metadata": {},
   "outputs": [
    {
     "data": {
      "text/plain": [
       "(int, str, float)"
      ]
     },
     "execution_count": 12,
     "metadata": {},
     "output_type": "execute_result"
    }
   ],
   "source": [
    "# Tipos de datos de las variables a, b y c\n",
    "type(a), type(b), type(c)"
   ]
  },
  {
   "cell_type": "markdown",
   "id": "6697cd06",
   "metadata": {},
   "source": [
    "<div class=\"alert alert-block alert-warning\">\n",
    "    <b>Nota:</b> Para referirnos a números del tipo float, basta que añadamos un punto decimal. Por ejemplo 3 (int) 3. (float), ambos representan el mismo número\n",
    "</div>"
   ]
  },
  {
   "cell_type": "markdown",
   "id": "8c715106",
   "metadata": {},
   "source": [
    "<div class=\"alert alert-block alert-warning\">\n",
    "    <b>Nota:</b> Operaciones básicas usamos (+) (-) (*) (/) (**)\n",
    "</div>"
   ]
  },
  {
   "cell_type": "markdown",
   "id": "8c722bb4",
   "metadata": {},
   "source": [
    "## Variable string\n",
    "**string:** Cadena ordenada de caracteres\n",
    "\n",
    "Podemos crear un ``string`` usando ``' '`` o ``\" \"`` "
   ]
  },
  {
   "cell_type": "code",
   "execution_count": 14,
   "id": "8a66da69",
   "metadata": {},
   "outputs": [
    {
     "data": {
      "text/plain": [
       "'Variable tipo string, con comillas simples'"
      ]
     },
     "execution_count": 14,
     "metadata": {},
     "output_type": "execute_result"
    }
   ],
   "source": [
    "# Usando comillas simples ' '\n",
    "string_1 = 'Variable tipo string, con comillas simples'\n",
    "string_1"
   ]
  },
  {
   "cell_type": "code",
   "execution_count": 15,
   "id": "ad88e107",
   "metadata": {},
   "outputs": [
    {
     "data": {
      "text/plain": [
       "'Variable tipo string, con comillas dobles'"
      ]
     },
     "execution_count": 15,
     "metadata": {},
     "output_type": "execute_result"
    }
   ],
   "source": [
    "# Usando comillas dobles \" \"\n",
    "string_2 = \"Variable tipo string, con comillas dobles\"\n",
    "string_2"
   ]
  },
  {
   "cell_type": "code",
   "execution_count": 17,
   "id": "a2fda7e2",
   "metadata": {},
   "outputs": [
    {
     "data": {
      "text/plain": [
       "(str, str)"
      ]
     },
     "execution_count": 17,
     "metadata": {},
     "output_type": "execute_result"
    }
   ],
   "source": [
    "type(string_1), type(string_2)"
   ]
  },
  {
   "cell_type": "markdown",
   "id": "15850dff",
   "metadata": {},
   "source": [
    "### Comillas dentro de un string"
   ]
  },
  {
   "cell_type": "code",
   "execution_count": 21,
   "id": "5999f389",
   "metadata": {},
   "outputs": [
    {
     "data": {
      "text/plain": [
       "'usaremos \"comillas dobles\" dentro de un string'"
      ]
     },
     "execution_count": 21,
     "metadata": {},
     "output_type": "execute_result"
    }
   ],
   "source": [
    "#Usaremos comillas simples para crear un str y comilla doble para representar las comillas dentro del str\n",
    "primera_forma = 'usaremos \"comillas dobles\" dentro de un string' \n",
    "primera_forma"
   ]
  },
  {
   "cell_type": "code",
   "execution_count": 23,
   "id": "453c6c52",
   "metadata": {},
   "outputs": [
    {
     "data": {
      "text/plain": [
       "\"usaremos 'comillas simples' dentro de un string\""
      ]
     },
     "execution_count": 23,
     "metadata": {},
     "output_type": "execute_result"
    }
   ],
   "source": [
    "#Usaremos comillas dobles para crear un str y comilla simple para representar las comillas dentro del str\n",
    "segunda_forma = \"usaremos 'comillas simples' dentro de un string\"\n",
    "segunda_forma"
   ]
  },
  {
   "cell_type": "code",
   "execution_count": 26,
   "id": "942fd7bc",
   "metadata": {},
   "outputs": [
    {
     "data": {
      "text/plain": [
       "'hola \"Carlos\"'"
      ]
     },
     "execution_count": 26,
     "metadata": {},
     "output_type": "execute_result"
    }
   ],
   "source": [
    "# Forzaremos las comillas (simples o dobles) en un str anteponiendo backslash (\\)\n",
    "tercera_forma = 'hola \\\"Carlos\\\"'\n",
    "tercera_forma"
   ]
  },
  {
   "cell_type": "code",
   "execution_count": 26,
   "id": "dac4ac6b",
   "metadata": {
    "scrolled": true
   },
   "outputs": [
    {
     "data": {
      "text/plain": [
       "'hola \"Carlos\"'"
      ]
     },
     "execution_count": 26,
     "metadata": {},
     "output_type": "execute_result"
    }
   ],
   "source": [
    "comillas_textos_2 = 'hola \"Carlos\"'\n",
    "comillas_textos_2"
   ]
  },
  {
   "cell_type": "markdown",
   "id": "aa0137cc",
   "metadata": {},
   "source": [
    "### print y format"
   ]
  },
  {
   "cell_type": "code",
   "execution_count": 27,
   "id": "a4208fa7",
   "metadata": {},
   "outputs": [
    {
     "data": {
      "text/plain": [
       "'hola'"
      ]
     },
     "execution_count": 27,
     "metadata": {},
     "output_type": "execute_result"
    }
   ],
   "source": [
    "a = 'hola'\n",
    "a"
   ]
  },
  {
   "cell_type": "code",
   "execution_count": 28,
   "id": "dd40d050",
   "metadata": {},
   "outputs": [
    {
     "name": "stdout",
     "output_type": "stream",
     "text": [
      "hola\n"
     ]
    }
   ],
   "source": [
    "# Imprimimos el valor de la variable a, en pantalla\n",
    "print(a) "
   ]
  },
  {
   "cell_type": "code",
   "execution_count": 31,
   "id": "10b0968d",
   "metadata": {},
   "outputs": [
    {
     "name": "stdout",
     "output_type": "stream",
     "text": [
      "Mi nombre es  Carlos Rondan y mi edad es 22 años\n"
     ]
    }
   ],
   "source": [
    "nombre = 'Carlos Rondan'\n",
    "edad = 22\n",
    "\n",
    "print('Mi nombre es ', nombre,'y mi edad es', edad, 'años')"
   ]
  },
  {
   "cell_type": "code",
   "execution_count": 32,
   "id": "7c77b560",
   "metadata": {},
   "outputs": [
    {
     "name": "stdout",
     "output_type": "stream",
     "text": [
      "Mi nombre es Carlos Rondan y mi edad es 22 años\n"
     ]
    }
   ],
   "source": [
    "print('Mi nombre es {} y mi edad es {} años'.format(nombre, edad))"
   ]
  },
  {
   "cell_type": "markdown",
   "id": "13c25b0a",
   "metadata": {},
   "source": [
    "### substrings"
   ]
  },
  {
   "cell_type": "code",
   "execution_count": 35,
   "id": "0e4a39bf",
   "metadata": {},
   "outputs": [],
   "source": [
    "substring = 'Python'"
   ]
  },
  {
   "cell_type": "markdown",
   "id": "c83afbca",
   "metadata": {},
   "source": [
    "La cadena de texto ``'Python'`` tiene la siguiente indexación:\n",
    "\n",
    "``\n",
    " P  y  t  h  o  n\n",
    " 0  1  2  3  4  5\n",
    "-6 -5 -4 -3 -2 -1\n",
    "``\n"
   ]
  },
  {
   "cell_type": "code",
   "execution_count": 36,
   "id": "2ec7b016",
   "metadata": {},
   "outputs": [
    {
     "data": {
      "text/plain": [
       "('t', 't')"
      ]
     },
     "execution_count": 36,
     "metadata": {},
     "output_type": "execute_result"
    }
   ],
   "source": [
    "# Si queremos extraer la letra 't' debemos usar la indexación 2 o -4\n",
    "substring[2], substring[-4]"
   ]
  },
  {
   "cell_type": "markdown",
   "id": "353615d0",
   "metadata": {},
   "source": [
    "Recorre la cadena de texto ``substring`` desde la posición 2 hasta la posición 4"
   ]
  },
  {
   "cell_type": "code",
   "execution_count": 60,
   "id": "43a4d224",
   "metadata": {},
   "outputs": [
    {
     "data": {
      "text/plain": [
       "'thon'"
      ]
     },
     "execution_count": 60,
     "metadata": {},
     "output_type": "execute_result"
    }
   ],
   "source": [
    "substring[2:6] #Estamos extrayendo los caracteres de index 2,3,4,5 "
   ]
  },
  {
   "cell_type": "code",
   "execution_count": 62,
   "id": "0a4fa8e5",
   "metadata": {},
   "outputs": [
    {
     "data": {
      "text/plain": [
       "'Pyth'"
      ]
     },
     "execution_count": 62,
     "metadata": {},
     "output_type": "execute_result"
    }
   ],
   "source": [
    "substring[:-2] #Estamos extrayendo los caracteres desde la izquierda, hasta una posición menos a la -2"
   ]
  },
  {
   "cell_type": "code",
   "execution_count": 63,
   "id": "e0346583",
   "metadata": {},
   "outputs": [
    {
     "data": {
      "text/plain": [
       "'thon'"
      ]
     },
     "execution_count": 63,
     "metadata": {},
     "output_type": "execute_result"
    }
   ],
   "source": [
    "substring[2:] #Extraemos los caracteres desde la posición 2(t) hasta culminar la cadena de caracteres"
   ]
  },
  {
   "cell_type": "markdown",
   "id": "206e4788",
   "metadata": {},
   "source": [
    "## Métodos para trabajar con string"
   ]
  },
  {
   "cell_type": "code",
   "execution_count": 52,
   "id": "2af6dac3",
   "metadata": {},
   "outputs": [],
   "source": [
    "a = 'APREnDERÁS PYTHOn con Naylamp   '"
   ]
  },
  {
   "cell_type": "markdown",
   "id": "8f48581b",
   "metadata": {},
   "source": [
    "El método ``.lower()`` sirve para poner en minuscula toda la cadena de caracteres"
   ]
  },
  {
   "cell_type": "code",
   "execution_count": 70,
   "id": "cbe751e6",
   "metadata": {},
   "outputs": [
    {
     "data": {
      "text/plain": [
       "'aprenderás python con naylamp   '"
      ]
     },
     "execution_count": 70,
     "metadata": {},
     "output_type": "execute_result"
    }
   ],
   "source": [
    "a.lower()"
   ]
  },
  {
   "cell_type": "markdown",
   "id": "e40040d5",
   "metadata": {},
   "source": [
    "El método ``.upper()`` sirve para poner en maypuscua toda la cadena de caracteres"
   ]
  },
  {
   "cell_type": "code",
   "execution_count": 71,
   "id": "01878b0a",
   "metadata": {},
   "outputs": [
    {
     "data": {
      "text/plain": [
       "'APRENDERÁS PYTHON CON NAYLAMP   '"
      ]
     },
     "execution_count": 71,
     "metadata": {},
     "output_type": "execute_result"
    }
   ],
   "source": [
    "a.upper()"
   ]
  },
  {
   "cell_type": "markdown",
   "id": "760d30c9",
   "metadata": {},
   "source": [
    "El método ``.count()`` se usa para contabilidar una o un conjutno de caracteres que se encuentren en el string "
   ]
  },
  {
   "cell_type": "code",
   "execution_count": 72,
   "id": "f2158206",
   "metadata": {},
   "outputs": [
    {
     "data": {
      "text/plain": [
       "2"
      ]
     },
     "execution_count": 72,
     "metadata": {},
     "output_type": "execute_result"
    }
   ],
   "source": [
    "a.count('P')"
   ]
  },
  {
   "cell_type": "markdown",
   "id": "d8aa86c5",
   "metadata": {},
   "source": [
    "El método ``.capitalize()`` convierte la primera letra en mayúscula y las restantes en mínuscula "
   ]
  },
  {
   "cell_type": "code",
   "execution_count": 73,
   "id": "cae32f50",
   "metadata": {},
   "outputs": [
    {
     "data": {
      "text/plain": [
       "'Aprenderás python con naylamp   '"
      ]
     },
     "execution_count": 73,
     "metadata": {},
     "output_type": "execute_result"
    }
   ],
   "source": [
    "a.capitalize()"
   ]
  },
  {
   "cell_type": "markdown",
   "id": "1e6afea6",
   "metadata": {},
   "source": [
    "El método ``.title()`` es usado para convertir en mayúscula la primera letra de cada palabras, y las restantes en minúscul"
   ]
  },
  {
   "cell_type": "code",
   "execution_count": 74,
   "id": "b67b23c3",
   "metadata": {},
   "outputs": [
    {
     "data": {
      "text/plain": [
       "'Aprenderás Python Con Naylamp   '"
      ]
     },
     "execution_count": 74,
     "metadata": {},
     "output_type": "execute_result"
    }
   ],
   "source": [
    "a.title()"
   ]
  },
  {
   "cell_type": "markdown",
   "id": "72a1c0d8",
   "metadata": {},
   "source": [
    "El método ``.replace()`` tiene dos parámetros. El primero es **la cadena de texto a remplazar** y el segundo es el **nuevo texto**"
   ]
  },
  {
   "cell_type": "code",
   "execution_count": 75,
   "id": "c4f295d2",
   "metadata": {},
   "outputs": [
    {
     "data": {
      "text/plain": [
       "'APREnDERÁS R con Naylamp   '"
      ]
     },
     "execution_count": 75,
     "metadata": {},
     "output_type": "execute_result"
    }
   ],
   "source": [
    "a.replace('PYTHOn','R')"
   ]
  },
  {
   "cell_type": "markdown",
   "id": "309d63be",
   "metadata": {},
   "source": [
    "El método ``.split()`` divide un string y los almacena como elementos en una lista "
   ]
  },
  {
   "cell_type": "code",
   "execution_count": 76,
   "id": "0abf349d",
   "metadata": {},
   "outputs": [
    {
     "data": {
      "text/plain": [
       "['APREnDERÁS', 'PYTHOn', 'con', 'Naylamp']"
      ]
     },
     "execution_count": 76,
     "metadata": {},
     "output_type": "execute_result"
    }
   ],
   "source": [
    "a.split()"
   ]
  },
  {
   "cell_type": "markdown",
   "id": "0ecbb8a3",
   "metadata": {},
   "source": [
    "El método ``.find()`` sirve para buscar una sub cadena de texto de una string "
   ]
  },
  {
   "cell_type": "code",
   "execution_count": 77,
   "id": "4b2d5ad1",
   "metadata": {},
   "outputs": [
    {
     "data": {
      "text/plain": [
       "(3, 3)"
      ]
     },
     "execution_count": 77,
     "metadata": {},
     "output_type": "execute_result"
    }
   ],
   "source": [
    "a.find('E'), a.index('E')"
   ]
  },
  {
   "cell_type": "markdown",
   "id": "ac8423e9",
   "metadata": {},
   "source": [
    "la función ``len()`` contabiliza los caracteres de un string"
   ]
  },
  {
   "cell_type": "code",
   "execution_count": 79,
   "id": "dffc9973",
   "metadata": {},
   "outputs": [
    {
     "data": {
      "text/plain": [
       "32"
      ]
     },
     "execution_count": 79,
     "metadata": {},
     "output_type": "execute_result"
    }
   ],
   "source": [
    "len(a)"
   ]
  },
  {
   "cell_type": "markdown",
   "id": "0f829aa0",
   "metadata": {},
   "source": [
    "## Ejemplito\n",
    "### Ejemplo 1"
   ]
  },
  {
   "cell_type": "code",
   "execution_count": 71,
   "id": "363921f6",
   "metadata": {},
   "outputs": [
    {
     "name": "stdout",
     "output_type": "stream",
     "text": [
      "22\n"
     ]
    }
   ],
   "source": [
    "edad = input()"
   ]
  },
  {
   "cell_type": "code",
   "execution_count": 72,
   "id": "c564b992",
   "metadata": {
    "scrolled": true
   },
   "outputs": [
    {
     "data": {
      "text/plain": [
       "str"
      ]
     },
     "execution_count": 72,
     "metadata": {},
     "output_type": "execute_result"
    }
   ],
   "source": [
    "type(edad)"
   ]
  },
  {
   "cell_type": "code",
   "execution_count": 80,
   "id": "f8c9fc16",
   "metadata": {},
   "outputs": [
    {
     "name": "stdout",
     "output_type": "stream",
     "text": [
      "Mi nombre es : Carlos rondan Poma\n",
      "Mi edad es: 22\n"
     ]
    }
   ],
   "source": [
    "nombre = input('Mi nombre es : ')\n",
    "edad = int(input('Mi edad es: '))"
   ]
  },
  {
   "cell_type": "code",
   "execution_count": 80,
   "id": "5b0a7143",
   "metadata": {},
   "outputs": [
    {
     "name": "stdout",
     "output_type": "stream",
     "text": [
      "La edad de Carlos Rondan es 22.\n"
     ]
    }
   ],
   "source": [
    "print('La edad de {} es {}.'.format(nombre,edad))"
   ]
  },
  {
   "cell_type": "markdown",
   "id": "666ed38b",
   "metadata": {},
   "source": [
    "### ejemplo 2\n",
    "Calcular el índice de masa corporal $IMC = \\frac{Peso}{altura^{2}}$"
   ]
  },
  {
   "cell_type": "code",
   "execution_count": 82,
   "id": "a24347fb",
   "metadata": {},
   "outputs": [
    {
     "name": "stdout",
     "output_type": "stream",
     "text": [
      "Nombre del usuario: Carlos Rondan Poma\n",
      "el peso es: 80\n",
      "Mi talla es: 1.70\n"
     ]
    }
   ],
   "source": [
    "nombre = input('Nombre del usuario: ')\n",
    "peso = int(input('el peso es: '))\n",
    "altura = float(input('Mi talla es: '))\n",
    "IMC = peso / (altura**2)"
   ]
  },
  {
   "cell_type": "code",
   "execution_count": 89,
   "id": "eab3f9fd",
   "metadata": {},
   "outputs": [
    {
     "name": "stdout",
     "output_type": "stream",
     "text": [
      "El usuario \"Carlos Rondan Poma\" con peso 80 kg y altura 1.7 metros tiene un IMC igual a 27.68166 \n"
     ]
    }
   ],
   "source": [
    "print('El usuario \\\"{}\\\" con peso {} kg y altura {} metros tiene un IMC igual a {} '.format(nombre,\n",
    "                                                                                           peso,\n",
    "                                                                                           altura,\n",
    "                                                                                           round(IMC,5)))"
   ]
  },
  {
   "cell_type": "markdown",
   "id": "e2a9a1cb",
   "metadata": {},
   "source": [
    "La función ``round(numero, cantidad de decimales)`` sirve para redondear un número decimal"
   ]
  },
  {
   "cell_type": "code",
   "execution_count": 94,
   "id": "f5104fb1",
   "metadata": {},
   "outputs": [
    {
     "data": {
      "text/plain": [
       "27.682"
      ]
     },
     "execution_count": 94,
     "metadata": {},
     "output_type": "execute_result"
    }
   ],
   "source": [
    "round(IMC, 3)"
   ]
  },
  {
   "cell_type": "markdown",
   "id": "72fb54b0",
   "metadata": {},
   "source": [
    "<div class=\"alert alert-block alert-warning\">\n",
    "    <b>Nota:</b> Python tiene como tipo de dato a los números completos (complex)\n",
    "</div>"
   ]
  },
  {
   "cell_type": "markdown",
   "id": "61462fdc",
   "metadata": {},
   "source": [
    "La correcta sintaxis de un número complejo es:``a + bj``.\n",
    "\n",
    "Donde :\n",
    "-   ``a`` es la parte real de un número complejo\n",
    "-   `b` es la parte imaginaria del número complejo\n",
    "-   `j` es el número imaginario $j = i = \\sqrt{-1}$"
   ]
  },
  {
   "cell_type": "code",
   "execution_count": 99,
   "id": "1c5519ab",
   "metadata": {},
   "outputs": [],
   "source": [
    "complejos = (1 + 3j)*(1-2j)"
   ]
  },
  {
   "cell_type": "code",
   "execution_count": 101,
   "id": "72863241",
   "metadata": {},
   "outputs": [
    {
     "data": {
      "text/plain": [
       "(7+1j)"
      ]
     },
     "execution_count": 101,
     "metadata": {},
     "output_type": "execute_result"
    }
   ],
   "source": [
    "complejos"
   ]
  },
  {
   "cell_type": "markdown",
   "id": "d680cacc",
   "metadata": {},
   "source": [
    "## Casting (convertir tipo de dato)"
   ]
  },
  {
   "cell_type": "code",
   "execution_count": 113,
   "id": "05079d16",
   "metadata": {},
   "outputs": [
    {
     "name": "stdout",
     "output_type": "stream",
     "text": [
      "La variable a es del tipo <class 'float'>, luego de castearlo mediante un int(), el dato es <class 'int'>\n"
     ]
    }
   ],
   "source": [
    "a = 8.0  #Creamos un tipo de dato decimal (float)\n",
    "\n",
    "print('La variable a es del tipo {}, luego de castearlo mediante un int(), el dato es {}'.format(type(a),type(int(8.5))))"
   ]
  },
  {
   "cell_type": "markdown",
   "id": "878000cb",
   "metadata": {},
   "source": [
    "<div class=\"alert alert-block alert-danger\">\n",
    "    <b>Nota:</b> Cuando usamos int() en un número flotante esta trunca al número, por ejemplo, int(8.5) $\\rightarrow$ 8.  En este caso se ha truncado, por lo que, hemos perdido información\n",
    "</div>"
   ]
  },
  {
   "cell_type": "code",
   "execution_count": 103,
   "id": "f262078e",
   "metadata": {},
   "outputs": [
    {
     "data": {
      "text/plain": [
       "8"
      ]
     },
     "execution_count": 103,
     "metadata": {},
     "output_type": "execute_result"
    }
   ],
   "source": [
    "int(8.5)"
   ]
  },
  {
   "cell_type": "markdown",
   "id": "10dfcfec",
   "metadata": {},
   "source": [
    "# Creación de listas\n",
    "**Lista:** es una colección de valores de cualquier tipo"
   ]
  },
  {
   "cell_type": "code",
   "execution_count": 126,
   "id": "5577b027",
   "metadata": {},
   "outputs": [
    {
     "data": {
      "text/plain": [
       "[10, 10.2, 'carlos', [1, 2]]"
      ]
     },
     "execution_count": 126,
     "metadata": {},
     "output_type": "execute_result"
    }
   ],
   "source": [
    "lista_1 = [10,10.2,'carlos',[1,2]]\n",
    "lista_1"
   ]
  },
  {
   "cell_type": "markdown",
   "id": "c87f4f47",
   "metadata": {},
   "source": [
    "La lista ``lista_1`` tiene la siguiente indexación:\n",
    "\n",
    "``\n",
    "[ 10,10.2,'carlos',[1,2]]\n",
    "   0    1     2       3 \n",
    "  -4   -3    -2      -1\n",
    "``\n"
   ]
  },
  {
   "cell_type": "code",
   "execution_count": 127,
   "id": "e83331b4",
   "metadata": {},
   "outputs": [
    {
     "data": {
      "text/plain": [
       "list"
      ]
     },
     "execution_count": 127,
     "metadata": {},
     "output_type": "execute_result"
    }
   ],
   "source": [
    "type(lista_1)"
   ]
  },
  {
   "cell_type": "code",
   "execution_count": 128,
   "id": "d8e11cf2",
   "metadata": {},
   "outputs": [
    {
     "data": {
      "text/plain": [
       "10"
      ]
     },
     "execution_count": 128,
     "metadata": {},
     "output_type": "execute_result"
    }
   ],
   "source": [
    "lista_1[0] # el primer elemento de la lista lista_1"
   ]
  },
  {
   "cell_type": "code",
   "execution_count": 129,
   "id": "70a29aa9",
   "metadata": {},
   "outputs": [
    {
     "data": {
      "text/plain": [
       "[10.2, 'carlos']"
      ]
     },
     "execution_count": 129,
     "metadata": {},
     "output_type": "execute_result"
    }
   ],
   "source": [
    "lista_1[1:3] # recorre los elementos 1, 2 [1:3>"
   ]
  },
  {
   "cell_type": "markdown",
   "id": "b849efa2",
   "metadata": {},
   "source": [
    "##  Cómo añadir o quitar valores de una lista"
   ]
  },
  {
   "cell_type": "markdown",
   "id": "6dba48d9",
   "metadata": {},
   "source": [
    "1. Añadir\n",
    "2. Quitar"
   ]
  },
  {
   "cell_type": "code",
   "execution_count": 130,
   "id": "cb1b71f1",
   "metadata": {},
   "outputs": [
    {
     "data": {
      "text/plain": [
       "[10, 10.2, 'carlos', [1, 2], 'hola', 3]"
      ]
     },
     "execution_count": 130,
     "metadata": {},
     "output_type": "execute_result"
    }
   ],
   "source": [
    "# Añadir a la lista --> lista_1 = [10, 10.2, 'carlos', [1, 2]] los elementos ['hola', 3]\n",
    "lista = lista_1 + ['hola', 3]\n",
    "lista"
   ]
  },
  {
   "cell_type": "markdown",
   "id": "d5af4def",
   "metadata": {},
   "source": [
    "El método ``.append()`` sirve para añadir nuevos elementos (int, float, list, dict, dataframe, etc....)"
   ]
  },
  {
   "cell_type": "code",
   "execution_count": 131,
   "id": "dee01132",
   "metadata": {},
   "outputs": [],
   "source": [
    "lista.append(2)"
   ]
  },
  {
   "cell_type": "code",
   "execution_count": 132,
   "id": "60daef33",
   "metadata": {},
   "outputs": [
    {
     "data": {
      "text/plain": [
       "[10, 10.2, 'carlos', [1, 2], 'hola', 3, 2]"
      ]
     },
     "execution_count": 132,
     "metadata": {},
     "output_type": "execute_result"
    }
   ],
   "source": [
    "lista"
   ]
  },
  {
   "cell_type": "code",
   "execution_count": 133,
   "id": "6e4b8a2a",
   "metadata": {},
   "outputs": [],
   "source": [
    "lista.insert(2,'aquí estoy, mirame plis')"
   ]
  },
  {
   "cell_type": "code",
   "execution_count": 134,
   "id": "441147ab",
   "metadata": {},
   "outputs": [
    {
     "data": {
      "text/plain": [
       "[10, 10.2, 'aquí estoy, mirame plis', 'carlos', [1, 2], 'hola', 3, 2]"
      ]
     },
     "execution_count": 134,
     "metadata": {},
     "output_type": "execute_result"
    }
   ],
   "source": [
    "lista"
   ]
  },
  {
   "cell_type": "code",
   "execution_count": 135,
   "id": "5ec7ec5d",
   "metadata": {},
   "outputs": [],
   "source": [
    "lista.remove(3) # Usado para quitar el prmier elemento X recorriendo de izquierda a derecha"
   ]
  },
  {
   "cell_type": "code",
   "execution_count": 136,
   "id": "f0fcffc7",
   "metadata": {},
   "outputs": [
    {
     "data": {
      "text/plain": [
       "[10, 10.2, 'aquí estoy, mirame plis', 'carlos', [1, 2], 'hola', 2]"
      ]
     },
     "execution_count": 136,
     "metadata": {},
     "output_type": "execute_result"
    }
   ],
   "source": [
    "lista"
   ]
  },
  {
   "cell_type": "markdown",
   "id": "e2a48bb3",
   "metadata": {},
   "source": [
    "## Crear nuevas listas\n",
    "1. Por punteros (dependientes)\n",
    "2. Por la función `list()` (independientes)"
   ]
  },
  {
   "cell_type": "code",
   "execution_count": 137,
   "id": "c28c754a",
   "metadata": {},
   "outputs": [
    {
     "data": {
      "text/plain": [
       "[1, 2, 3]"
      ]
     },
     "execution_count": 137,
     "metadata": {},
     "output_type": "execute_result"
    }
   ],
   "source": [
    "x = [1,2,3]\n",
    "x"
   ]
  },
  {
   "cell_type": "code",
   "execution_count": 138,
   "id": "12b7203b",
   "metadata": {},
   "outputs": [
    {
     "data": {
      "text/plain": [
       "[1, 2, 3]"
      ]
     },
     "execution_count": 138,
     "metadata": {},
     "output_type": "execute_result"
    }
   ],
   "source": [
    "y = x\n",
    "y "
   ]
  },
  {
   "cell_type": "code",
   "execution_count": 139,
   "id": "b23ec0b1",
   "metadata": {},
   "outputs": [
    {
     "data": {
      "text/plain": [
       "([1, 100, 3], [1, 100, 3])"
      ]
     },
     "execution_count": 139,
     "metadata": {},
     "output_type": "execute_result"
    }
   ],
   "source": [
    "y[1] = 100\n",
    "x, y"
   ]
  },
  {
   "cell_type": "markdown",
   "id": "3d705be2",
   "metadata": {},
   "source": [
    "***"
   ]
  },
  {
   "cell_type": "code",
   "execution_count": 140,
   "id": "c3314ccb",
   "metadata": {},
   "outputs": [
    {
     "data": {
      "text/plain": [
       "[1, 2, 3]"
      ]
     },
     "execution_count": 140,
     "metadata": {},
     "output_type": "execute_result"
    }
   ],
   "source": [
    "x = [1,2,3]\n",
    "x"
   ]
  },
  {
   "cell_type": "code",
   "execution_count": 141,
   "id": "816a99e5",
   "metadata": {},
   "outputs": [],
   "source": [
    "z = list(x)"
   ]
  },
  {
   "cell_type": "code",
   "execution_count": 142,
   "id": "b2db4c93",
   "metadata": {},
   "outputs": [
    {
     "data": {
      "text/plain": [
       "([1, 2, 3], [1, 100, 3])"
      ]
     },
     "execution_count": 142,
     "metadata": {},
     "output_type": "execute_result"
    }
   ],
   "source": [
    "z[1] = 100\n",
    "x,z"
   ]
  },
  {
   "cell_type": "markdown",
   "id": "9a97782f",
   "metadata": {},
   "source": [
    "# Funciones\n",
    "\n",
    "``\n",
    "def nombre_funcion(arg1,arg2):\n",
    "    codigo\n",
    "    return resultado\n",
    "``"
   ]
  },
  {
   "cell_type": "code",
   "execution_count": 143,
   "id": "1c3dd3a7",
   "metadata": {},
   "outputs": [],
   "source": [
    "def primera_funcion(base, exponente):\n",
    "    res = base ** exponente\n",
    "    return res"
   ]
  },
  {
   "cell_type": "code",
   "execution_count": 144,
   "id": "f2cd8a89",
   "metadata": {},
   "outputs": [
    {
     "data": {
      "text/plain": [
       "8"
      ]
     },
     "execution_count": 144,
     "metadata": {},
     "output_type": "execute_result"
    }
   ],
   "source": [
    "primera_funcion(2,3)"
   ]
  },
  {
   "cell_type": "markdown",
   "id": "9b828a6d",
   "metadata": {},
   "source": [
    "<div class=\"alert alert-block alert-warning\">\n",
    "    <b>Nota:</b> ES posible tener argumentos flexibles o numeros de parámetro no determinados\n",
    "</div>"
   ]
  },
  {
   "cell_type": "code",
   "execution_count": 145,
   "id": "986e54fb",
   "metadata": {},
   "outputs": [],
   "source": [
    "def flexible(*args):\n",
    "    mult_todos = 1\n",
    "    for n in args:\n",
    "        mult_todos = mult_todos * n\n",
    "    \n",
    "    return mult_todos"
   ]
  },
  {
   "cell_type": "code",
   "execution_count": 148,
   "id": "004865e5",
   "metadata": {},
   "outputs": [
    {
     "data": {
      "text/plain": [
       "6"
      ]
     },
     "execution_count": 148,
     "metadata": {},
     "output_type": "execute_result"
    }
   ],
   "source": [
    "flexible(3,2)"
   ]
  },
  {
   "cell_type": "markdown",
   "id": "42c2498d",
   "metadata": {},
   "source": [
    "<div class=\"alert alert-block alert-success\">\n",
    "<b>función lambda:</b>  Nombre_función = lambda arg_1, arg_2 ..: código función\n",
    "</div>"
   ]
  },
  {
   "cell_type": "code",
   "execution_count": 149,
   "id": "c26906d4",
   "metadata": {},
   "outputs": [],
   "source": [
    "mi_primera_funcion = lambda base, exponente: base** exponente "
   ]
  },
  {
   "cell_type": "code",
   "execution_count": 150,
   "id": "a62cfbc4",
   "metadata": {},
   "outputs": [
    {
     "data": {
      "text/plain": [
       "8"
      ]
     },
     "execution_count": 150,
     "metadata": {},
     "output_type": "execute_result"
    }
   ],
   "source": [
    "mi_primera_funcion(2,3)"
   ]
  },
  {
   "cell_type": "markdown",
   "id": "7bc8d88b",
   "metadata": {},
   "source": [
    "<div class=\"alert alert-block alert-info\">\n",
    "    <b>map:</b> map(funcion, secuencua): Aplica la función a todos los elementos de una secuencia (lista, columna de dataframe, etc..\n",
    "</div>"
   ]
  },
  {
   "cell_type": "code",
   "execution_count": 151,
   "id": "fb6b3326",
   "metadata": {},
   "outputs": [
    {
     "data": {
      "text/plain": [
       "[64, 125, 8, 1000, 8243757068549748545803398133939054408]"
      ]
     },
     "execution_count": 151,
     "metadata": {},
     "output_type": "execute_result"
    }
   ],
   "source": [
    "lista = [4,5,2,10,2020110201202]\n",
    "lista_cuadrado = map(lambda x: x**3,lista)\n",
    "list(lista_cuadrado)"
   ]
  },
  {
   "cell_type": "markdown",
   "id": "8199c1ec",
   "metadata": {},
   "source": [
    "## ejemplito\n",
    "Convertir una lista de precios dólares a precios euros"
   ]
  },
  {
   "cell_type": "code",
   "execution_count": 153,
   "id": "3886276b",
   "metadata": {},
   "outputs": [
    {
     "data": {
      "text/plain": [
       "[10.82, 11.95, 14.49, 23.89]"
      ]
     },
     "execution_count": 153,
     "metadata": {},
     "output_type": "execute_result"
    }
   ],
   "source": [
    "precios_dolar = [10.82, 11.95, 14.49, 23.89] # Creamos lista de precios en dólares\n",
    "precios_dolar"
   ]
  },
  {
   "cell_type": "code",
   "execution_count": 154,
   "id": "914f3a44",
   "metadata": {},
   "outputs": [],
   "source": [
    "precios_euros = map(lambda x: x/1.1 , precios_dolar)"
   ]
  },
  {
   "cell_type": "code",
   "execution_count": 155,
   "id": "5343ea94",
   "metadata": {},
   "outputs": [
    {
     "data": {
      "text/plain": [
       "[9.836363636363636, 10.863636363636362, 13.172727272727272, 21.71818181818182]"
      ]
     },
     "execution_count": 155,
     "metadata": {},
     "output_type": "execute_result"
    }
   ],
   "source": [
    "list(precios_euros)"
   ]
  },
  {
   "cell_type": "code",
   "execution_count": 156,
   "id": "e55f09cb",
   "metadata": {},
   "outputs": [],
   "source": [
    "def cambiar(dolar):\n",
    "    for j in range(len(dolar)):\n",
    "        dolar[j] = dolar[j]/1.1\n",
    "    return dolar "
   ]
  },
  {
   "cell_type": "code",
   "execution_count": 157,
   "id": "305dad6e",
   "metadata": {},
   "outputs": [
    {
     "data": {
      "text/plain": [
       "[9.836363636363636, 10.863636363636362, 13.172727272727272, 21.71818181818182]"
      ]
     },
     "execution_count": 157,
     "metadata": {},
     "output_type": "execute_result"
    }
   ],
   "source": [
    "cambiar(precios_dolar)"
   ]
  },
  {
   "cell_type": "markdown",
   "id": "d003121b",
   "metadata": {},
   "source": [
    "# Diccionarios\n",
    "\n",
    "Un diccionaro es un objeto que nos proporciona un listado ``<clave> :<valor>``\n",
    "\n",
    "``\n",
    "nombre_diccionario = {'clave_1': valor_1,\n",
    "                      'clave_2': valor_2 ...}\n",
    "``"
   ]
  },
  {
   "cell_type": "code",
   "execution_count": 158,
   "id": "b6bad9b1",
   "metadata": {},
   "outputs": [],
   "source": [
    "registro_dic = {'Carlos': 12,\n",
    "               'Jhon': 13,\n",
    "               'Luisa':15,\n",
    "               'Verónica': 18}"
   ]
  },
  {
   "cell_type": "code",
   "execution_count": 159,
   "id": "94885a83",
   "metadata": {},
   "outputs": [
    {
     "data": {
      "text/plain": [
       "12"
      ]
     },
     "execution_count": 159,
     "metadata": {},
     "output_type": "execute_result"
    }
   ],
   "source": [
    "registro_dic['Carlos']"
   ]
  },
  {
   "cell_type": "code",
   "execution_count": 160,
   "id": "e5bc10aa",
   "metadata": {},
   "outputs": [],
   "source": [
    "nom_alumnos = ['Carlos','Jhon','Luisa','Verónica']\n",
    "notas = [12,13,15,18]"
   ]
  },
  {
   "cell_type": "code",
   "execution_count": 161,
   "id": "f9b718bd",
   "metadata": {},
   "outputs": [
    {
     "data": {
      "text/plain": [
       "2"
      ]
     },
     "execution_count": 161,
     "metadata": {},
     "output_type": "execute_result"
    }
   ],
   "source": [
    "nom_alumnos_luisa = nom_alumnos.index('Luisa')\n",
    "nom_alumnos_luisa"
   ]
  },
  {
   "cell_type": "code",
   "execution_count": 162,
   "id": "272f63e6",
   "metadata": {},
   "outputs": [
    {
     "data": {
      "text/plain": [
       "15"
      ]
     },
     "execution_count": 162,
     "metadata": {},
     "output_type": "execute_result"
    }
   ],
   "source": [
    "notas[nom_alumnos_luisa]"
   ]
  },
  {
   "cell_type": "markdown",
   "id": "218f3a3b",
   "metadata": {},
   "source": [
    "## Convertir listas en diccionarios"
   ]
  },
  {
   "cell_type": "code",
   "execution_count": 163,
   "id": "16099242",
   "metadata": {},
   "outputs": [],
   "source": [
    "mercados = ['La Victorio','Huamantanga','Santa Anita','San José']"
   ]
  },
  {
   "cell_type": "code",
   "execution_count": 164,
   "id": "afe246e6",
   "metadata": {},
   "outputs": [],
   "source": [
    "desperdicios = [47000, 120000,32000, 50000]"
   ]
  },
  {
   "cell_type": "code",
   "execution_count": 165,
   "id": "ffb615ea",
   "metadata": {},
   "outputs": [],
   "source": [
    "dic_desperdcio = dict(zip(mercados,desperdicios))"
   ]
  },
  {
   "cell_type": "code",
   "execution_count": 166,
   "id": "65e3d1b5",
   "metadata": {},
   "outputs": [
    {
     "data": {
      "text/plain": [
       "{'La Victorio': 47000,\n",
       " 'Huamantanga': 120000,\n",
       " 'Santa Anita': 32000,\n",
       " 'San José': 50000}"
      ]
     },
     "execution_count": 166,
     "metadata": {},
     "output_type": "execute_result"
    }
   ],
   "source": [
    "dic_desperdcio"
   ]
  },
  {
   "cell_type": "code",
   "execution_count": 167,
   "id": "1e47b9ab",
   "metadata": {},
   "outputs": [],
   "source": [
    "dic_notas = dict(zip(nom_alumnos,notas))"
   ]
  },
  {
   "cell_type": "code",
   "execution_count": 168,
   "id": "d1dac263",
   "metadata": {},
   "outputs": [
    {
     "data": {
      "text/plain": [
       "{'Carlos': 12, 'Jhon': 13, 'Luisa': 15, 'Verónica': 18}"
      ]
     },
     "execution_count": 168,
     "metadata": {},
     "output_type": "execute_result"
    }
   ],
   "source": [
    "dic_notas"
   ]
  },
  {
   "cell_type": "code",
   "execution_count": 169,
   "id": "d3b3277b",
   "metadata": {},
   "outputs": [
    {
     "data": {
      "text/plain": [
       "32000"
      ]
     },
     "execution_count": 169,
     "metadata": {},
     "output_type": "execute_result"
    }
   ],
   "source": [
    "dic_desperdcio['Santa Anita']"
   ]
  },
  {
   "cell_type": "code",
   "execution_count": 170,
   "id": "2e95636d",
   "metadata": {},
   "outputs": [
    {
     "data": {
      "text/plain": [
       "[('La Victorio', 47000),\n",
       " ('Huamantanga', 120000),\n",
       " ('Santa Anita', 32000),\n",
       " ('San José', 50000)]"
      ]
     },
     "execution_count": 170,
     "metadata": {},
     "output_type": "execute_result"
    }
   ],
   "source": [
    "list(zip(mercados, desperdicios))"
   ]
  },
  {
   "cell_type": "markdown",
   "id": "b6092e9c",
   "metadata": {},
   "source": [
    "# Operadores Lógicos"
   ]
  },
  {
   "cell_type": "markdown",
   "id": "93da23dd",
   "metadata": {},
   "source": [
    "## Comparadores\n",
    "|Comparador|Significado|\n",
    "|-|-|\n",
    "|<|Menor que|\n",
    "|>|Mayor que|\n",
    "|<=|Menor o igual que|\n",
    "|>=|Mayor o igual que|\n",
    "|==|igual que|\n",
    "|!=|No igual que|"
   ]
  },
  {
   "cell_type": "markdown",
   "id": "28e00b65",
   "metadata": {},
   "source": [
    "## Booleanos\n",
    "|bool|Significado|\n",
    "|-|-|\n",
    "|and|Retorna verdadero si ambas condiciones son verdaderas|\n",
    "|or|Retorna verdadero si algunas o ambas condiciones son verdaderas|\n",
    "|not|Retorna verdadero si la condición es falsa y viceversa|"
   ]
  },
  {
   "cell_type": "markdown",
   "id": "c6a17f19",
   "metadata": {},
   "source": [
    "# Operadores de decisión\n",
    "Usaremos ``if`` cuando queremos comprobar una determinada condición"
   ]
  },
  {
   "cell_type": "code",
   "execution_count": 207,
   "id": "746cb246",
   "metadata": {},
   "outputs": [
    {
     "name": "stdout",
     "output_type": "stream",
     "text": [
      "El score no es válido\n"
     ]
    }
   ],
   "source": [
    "score = -0.1\n",
    "\n",
    "if (score >= 0 and score < 0.2) :\n",
    "    print('Rojo')\n",
    "else:\n",
    "    if (score >= 0.2 and score < 0.8):\n",
    "        print('Amarillo')\n",
    "    else:\n",
    "        if (score >= 0.8 and score < 1):\n",
    "            print('Verde')\n",
    "        else:\n",
    "            print('El score no es válido')"
   ]
  },
  {
   "cell_type": "code",
   "execution_count": 212,
   "id": "9e24388b",
   "metadata": {},
   "outputs": [
    {
     "name": "stdout",
     "output_type": "stream",
     "text": [
      "Verde\n"
     ]
    }
   ],
   "source": [
    "score = 0.9\n",
    "if (score >= 0 and score < 0.2) :\n",
    "    print('Rojo')\n",
    "elif (score >= 0.2 and score < 0.8):\n",
    "    print('Amarillo')\n",
    "elif (score >= 0.8 and score < 1):\n",
    "    print('Verde')\n",
    "else:\n",
    "    print('El score no es válido')"
   ]
  },
  {
   "cell_type": "markdown",
   "id": "920d0f20",
   "metadata": {},
   "source": [
    "# Bucles "
   ]
  },
  {
   "cell_type": "markdown",
   "id": "40ffba3f",
   "metadata": {},
   "source": [
    "## While\n",
    "La lógica ``while`` es que, mientras la condición sea verdaddera, continuaremos realizando la repetición"
   ]
  },
  {
   "cell_type": "code",
   "execution_count": 215,
   "id": "d77d41f3",
   "metadata": {},
   "outputs": [
    {
     "name": "stdout",
     "output_type": "stream",
     "text": [
      "10\n",
      "9\n",
      "8\n",
      "7\n",
      "6\n",
      "5\n",
      "4\n",
      "3\n",
      "2\n",
      "1\n"
     ]
    }
   ],
   "source": [
    "i = 10\n",
    "while i > 0: \n",
    "    print(i)\n",
    "    i = i - 1 "
   ]
  },
  {
   "cell_type": "markdown",
   "id": "f1c233a6",
   "metadata": {},
   "source": [
    "<div class=\"alert alert-block alert-danger\">\n",
    "<b>Nota:</b> Tener cuidado con los bucles infinitos\n",
    "</div>"
   ]
  },
  {
   "cell_type": "markdown",
   "id": "ce24f747",
   "metadata": {},
   "source": [
    "### Ejemplito\n",
    "Contabilizar cuántas vocales hay en ``\"Aprenderás python en naylamp y tendrás tu certificado\"``"
   ]
  },
  {
   "cell_type": "code",
   "execution_count": 220,
   "id": "f21f6ebe",
   "metadata": {},
   "outputs": [
    {
     "name": "stdout",
     "output_type": "stream",
     "text": [
      "El texto tiene 13 vocales\n"
     ]
    }
   ],
   "source": [
    "texto = 'Aprenderás python en naylamp y tendrás tu certificado'\n",
    "\n",
    "i = 0\n",
    "contador = 0\n",
    "\n",
    "while i < len(texto):\n",
    "    if texto[i] == 'a' or texto[i] == 'e' or texto[i] == 'i' or texto[i] == 'o' or texto[i] == 'u':\n",
    "        contador = contador +1    \n",
    "    i = i + 1 \n",
    "    \n",
    "    \n",
    "print('El texto tiene {} vocales'.format(contador))"
   ]
  },
  {
   "cell_type": "markdown",
   "id": "13d710ec",
   "metadata": {},
   "source": [
    "# For \n",
    "En ``for``, para todos elemtnos de la clave, seguiremos realizando las líenas del bucle"
   ]
  },
  {
   "cell_type": "code",
   "execution_count": 222,
   "id": "60b719b7",
   "metadata": {},
   "outputs": [
    {
     "name": "stdout",
     "output_type": "stream",
     "text": [
      "0\n",
      "1\n",
      "2\n"
     ]
    }
   ],
   "source": [
    "for i in range(3):\n",
    "    print(i)"
   ]
  },
  {
   "cell_type": "code",
   "execution_count": 225,
   "id": "8053916e",
   "metadata": {},
   "outputs": [
    {
     "name": "stdout",
     "output_type": "stream",
     "text": [
      "0\n",
      "2\n",
      "4\n",
      "6\n",
      "8\n",
      "10\n"
     ]
    }
   ],
   "source": [
    "for i in range(0,11,2):\n",
    "    print(i)"
   ]
  },
  {
   "cell_type": "code",
   "execution_count": 227,
   "id": "bfba4625",
   "metadata": {},
   "outputs": [
    {
     "name": "stdout",
     "output_type": "stream",
     "text": [
      "2\n",
      "3\n",
      "4\n",
      "5\n"
     ]
    }
   ],
   "source": [
    "for i in range(2,6):\n",
    "    print(i)"
   ]
  },
  {
   "cell_type": "markdown",
   "id": "b0be0e79",
   "metadata": {},
   "source": [
    "## Ejemplito"
   ]
  },
  {
   "cell_type": "code",
   "execution_count": 174,
   "id": "4c35686c",
   "metadata": {},
   "outputs": [],
   "source": [
    "nombres = ['Carlos','Luisa', 'Estefany']\n",
    "notas = [[15,12,11],\n",
    "         [11,10,20],\n",
    "         [5,20,18]]"
   ]
  },
  {
   "cell_type": "code",
   "execution_count": 177,
   "id": "c6ef7372",
   "metadata": {},
   "outputs": [
    {
     "name": "stdout",
     "output_type": "stream",
     "text": [
      "las notas de Carlos son: \n",
      "nota 1: 15\n",
      "nota 2: 12\n",
      "nota 3: 11\n",
      "las notas de Luisa son: \n",
      "nota 1: 11\n",
      "nota 2: 10\n",
      "nota 3: 20\n",
      "las notas de Estefany son: \n",
      "nota 1: 5\n",
      "nota 2: 20\n",
      "nota 3: 18\n"
     ]
    }
   ],
   "source": [
    "for i in range(len(nombres)):\n",
    "    print('las notas de {} son: '.format(nombres[i]))\n",
    "    for j in range(len(notas)):\n",
    "        print('nota {}: {}'.format(j+1, notas[i][j]))"
   ]
  },
  {
   "cell_type": "markdown",
   "id": "2e23d18b",
   "metadata": {},
   "source": [
    "# Importar datos con Pandas"
   ]
  },
  {
   "cell_type": "code",
   "execution_count": 181,
   "id": "04762f9f",
   "metadata": {},
   "outputs": [],
   "source": [
    "import pandas as pd #librería usada para la manipulación de dataframes"
   ]
  },
  {
   "cell_type": "markdown",
   "id": "50d16787",
   "metadata": {},
   "source": [
    "Usamos el método ``.read_csv()`` para leer archivos csv y poder manejarlos como ``dataframe``"
   ]
  },
  {
   "cell_type": "code",
   "execution_count": 182,
   "id": "37f579d8",
   "metadata": {},
   "outputs": [],
   "source": [
    "dataframe = pd.read_csv('data/diabetes.csv')"
   ]
  },
  {
   "cell_type": "code",
   "execution_count": 184,
   "id": "f585d3e1",
   "metadata": {},
   "outputs": [
    {
     "data": {
      "text/html": [
       "<div>\n",
       "<style scoped>\n",
       "    .dataframe tbody tr th:only-of-type {\n",
       "        vertical-align: middle;\n",
       "    }\n",
       "\n",
       "    .dataframe tbody tr th {\n",
       "        vertical-align: top;\n",
       "    }\n",
       "\n",
       "    .dataframe thead th {\n",
       "        text-align: right;\n",
       "    }\n",
       "</style>\n",
       "<table border=\"1\" class=\"dataframe\">\n",
       "  <thead>\n",
       "    <tr style=\"text-align: right;\">\n",
       "      <th></th>\n",
       "      <th>Pregnancies</th>\n",
       "      <th>Glucose</th>\n",
       "      <th>BloodPressure</th>\n",
       "      <th>SkinThickness</th>\n",
       "      <th>Insulin</th>\n",
       "      <th>BMI</th>\n",
       "      <th>DiabetesPedigreeFunction</th>\n",
       "      <th>Age</th>\n",
       "      <th>Outcome</th>\n",
       "    </tr>\n",
       "  </thead>\n",
       "  <tbody>\n",
       "    <tr>\n",
       "      <th>0</th>\n",
       "      <td>6</td>\n",
       "      <td>148</td>\n",
       "      <td>72</td>\n",
       "      <td>35</td>\n",
       "      <td>0</td>\n",
       "      <td>33.6</td>\n",
       "      <td>0.627</td>\n",
       "      <td>50</td>\n",
       "      <td>1</td>\n",
       "    </tr>\n",
       "    <tr>\n",
       "      <th>1</th>\n",
       "      <td>1</td>\n",
       "      <td>85</td>\n",
       "      <td>66</td>\n",
       "      <td>29</td>\n",
       "      <td>0</td>\n",
       "      <td>26.6</td>\n",
       "      <td>0.351</td>\n",
       "      <td>31</td>\n",
       "      <td>0</td>\n",
       "    </tr>\n",
       "    <tr>\n",
       "      <th>2</th>\n",
       "      <td>8</td>\n",
       "      <td>183</td>\n",
       "      <td>64</td>\n",
       "      <td>0</td>\n",
       "      <td>0</td>\n",
       "      <td>23.3</td>\n",
       "      <td>0.672</td>\n",
       "      <td>32</td>\n",
       "      <td>1</td>\n",
       "    </tr>\n",
       "    <tr>\n",
       "      <th>3</th>\n",
       "      <td>1</td>\n",
       "      <td>89</td>\n",
       "      <td>66</td>\n",
       "      <td>23</td>\n",
       "      <td>94</td>\n",
       "      <td>28.1</td>\n",
       "      <td>0.167</td>\n",
       "      <td>21</td>\n",
       "      <td>0</td>\n",
       "    </tr>\n",
       "    <tr>\n",
       "      <th>4</th>\n",
       "      <td>0</td>\n",
       "      <td>137</td>\n",
       "      <td>40</td>\n",
       "      <td>35</td>\n",
       "      <td>168</td>\n",
       "      <td>43.1</td>\n",
       "      <td>2.288</td>\n",
       "      <td>33</td>\n",
       "      <td>1</td>\n",
       "    </tr>\n",
       "    <tr>\n",
       "      <th>...</th>\n",
       "      <td>...</td>\n",
       "      <td>...</td>\n",
       "      <td>...</td>\n",
       "      <td>...</td>\n",
       "      <td>...</td>\n",
       "      <td>...</td>\n",
       "      <td>...</td>\n",
       "      <td>...</td>\n",
       "      <td>...</td>\n",
       "    </tr>\n",
       "    <tr>\n",
       "      <th>763</th>\n",
       "      <td>10</td>\n",
       "      <td>101</td>\n",
       "      <td>76</td>\n",
       "      <td>48</td>\n",
       "      <td>180</td>\n",
       "      <td>32.9</td>\n",
       "      <td>0.171</td>\n",
       "      <td>63</td>\n",
       "      <td>0</td>\n",
       "    </tr>\n",
       "    <tr>\n",
       "      <th>764</th>\n",
       "      <td>2</td>\n",
       "      <td>122</td>\n",
       "      <td>70</td>\n",
       "      <td>27</td>\n",
       "      <td>0</td>\n",
       "      <td>36.8</td>\n",
       "      <td>0.340</td>\n",
       "      <td>27</td>\n",
       "      <td>0</td>\n",
       "    </tr>\n",
       "    <tr>\n",
       "      <th>765</th>\n",
       "      <td>5</td>\n",
       "      <td>121</td>\n",
       "      <td>72</td>\n",
       "      <td>23</td>\n",
       "      <td>112</td>\n",
       "      <td>26.2</td>\n",
       "      <td>0.245</td>\n",
       "      <td>30</td>\n",
       "      <td>0</td>\n",
       "    </tr>\n",
       "    <tr>\n",
       "      <th>766</th>\n",
       "      <td>1</td>\n",
       "      <td>126</td>\n",
       "      <td>60</td>\n",
       "      <td>0</td>\n",
       "      <td>0</td>\n",
       "      <td>30.1</td>\n",
       "      <td>0.349</td>\n",
       "      <td>47</td>\n",
       "      <td>1</td>\n",
       "    </tr>\n",
       "    <tr>\n",
       "      <th>767</th>\n",
       "      <td>1</td>\n",
       "      <td>93</td>\n",
       "      <td>70</td>\n",
       "      <td>31</td>\n",
       "      <td>0</td>\n",
       "      <td>30.4</td>\n",
       "      <td>0.315</td>\n",
       "      <td>23</td>\n",
       "      <td>0</td>\n",
       "    </tr>\n",
       "  </tbody>\n",
       "</table>\n",
       "<p>768 rows × 9 columns</p>\n",
       "</div>"
      ],
      "text/plain": [
       "     Pregnancies  Glucose  BloodPressure  SkinThickness  Insulin   BMI  \\\n",
       "0              6      148             72             35        0  33.6   \n",
       "1              1       85             66             29        0  26.6   \n",
       "2              8      183             64              0        0  23.3   \n",
       "3              1       89             66             23       94  28.1   \n",
       "4              0      137             40             35      168  43.1   \n",
       "..           ...      ...            ...            ...      ...   ...   \n",
       "763           10      101             76             48      180  32.9   \n",
       "764            2      122             70             27        0  36.8   \n",
       "765            5      121             72             23      112  26.2   \n",
       "766            1      126             60              0        0  30.1   \n",
       "767            1       93             70             31        0  30.4   \n",
       "\n",
       "     DiabetesPedigreeFunction  Age  Outcome  \n",
       "0                       0.627   50        1  \n",
       "1                       0.351   31        0  \n",
       "2                       0.672   32        1  \n",
       "3                       0.167   21        0  \n",
       "4                       2.288   33        1  \n",
       "..                        ...  ...      ...  \n",
       "763                     0.171   63        0  \n",
       "764                     0.340   27        0  \n",
       "765                     0.245   30        0  \n",
       "766                     0.349   47        1  \n",
       "767                     0.315   23        0  \n",
       "\n",
       "[768 rows x 9 columns]"
      ]
     },
     "execution_count": 184,
     "metadata": {},
     "output_type": "execute_result"
    }
   ],
   "source": [
    "dataframe"
   ]
  },
  {
   "cell_type": "markdown",
   "id": "4df31a9c",
   "metadata": {},
   "source": [
    "## Convertir: diccionario $\\rightarrow$ dataframe"
   ]
  },
  {
   "cell_type": "code",
   "execution_count": 189,
   "id": "7b2b9dab",
   "metadata": {},
   "outputs": [],
   "source": [
    "# Creamos una diccionario donde las claves son los campos y los valores son los registros\n",
    "diccionario = {'ID': ['x01','x02','x03'],\n",
    "                'Edades': [10,20,30],\n",
    "              'Sueldo':  [1000, 3000,4000 ]} "
   ]
  },
  {
   "cell_type": "code",
   "execution_count": 190,
   "id": "3c1aa15c",
   "metadata": {},
   "outputs": [],
   "source": [
    "import pandas as pd #Librería para manipular dataframes"
   ]
  },
  {
   "cell_type": "code",
   "execution_count": 191,
   "id": "22a09060",
   "metadata": {},
   "outputs": [],
   "source": [
    "df = pd.DataFrame(diccionario) #Convertir de un diccionario a un dataframe"
   ]
  },
  {
   "cell_type": "code",
   "execution_count": 192,
   "id": "0509df56",
   "metadata": {},
   "outputs": [
    {
     "data": {
      "text/html": [
       "<div>\n",
       "<style scoped>\n",
       "    .dataframe tbody tr th:only-of-type {\n",
       "        vertical-align: middle;\n",
       "    }\n",
       "\n",
       "    .dataframe tbody tr th {\n",
       "        vertical-align: top;\n",
       "    }\n",
       "\n",
       "    .dataframe thead th {\n",
       "        text-align: right;\n",
       "    }\n",
       "</style>\n",
       "<table border=\"1\" class=\"dataframe\">\n",
       "  <thead>\n",
       "    <tr style=\"text-align: right;\">\n",
       "      <th></th>\n",
       "      <th>ID</th>\n",
       "      <th>Edades</th>\n",
       "      <th>Sueldo</th>\n",
       "    </tr>\n",
       "  </thead>\n",
       "  <tbody>\n",
       "    <tr>\n",
       "      <th>0</th>\n",
       "      <td>x01</td>\n",
       "      <td>10</td>\n",
       "      <td>1000</td>\n",
       "    </tr>\n",
       "    <tr>\n",
       "      <th>1</th>\n",
       "      <td>x02</td>\n",
       "      <td>20</td>\n",
       "      <td>3000</td>\n",
       "    </tr>\n",
       "    <tr>\n",
       "      <th>2</th>\n",
       "      <td>x03</td>\n",
       "      <td>30</td>\n",
       "      <td>4000</td>\n",
       "    </tr>\n",
       "  </tbody>\n",
       "</table>\n",
       "</div>"
      ],
      "text/plain": [
       "    ID  Edades  Sueldo\n",
       "0  x01      10    1000\n",
       "1  x02      20    3000\n",
       "2  x03      30    4000"
      ]
     },
     "execution_count": 192,
     "metadata": {},
     "output_type": "execute_result"
    }
   ],
   "source": [
    "df"
   ]
  }
 ],
 "metadata": {
  "kernelspec": {
   "display_name": "Python 3 (ipykernel)",
   "language": "python",
   "name": "python3"
  },
  "language_info": {
   "codemirror_mode": {
    "name": "ipython",
    "version": 3
   },
   "file_extension": ".py",
   "mimetype": "text/x-python",
   "name": "python",
   "nbconvert_exporter": "python",
   "pygments_lexer": "ipython3",
   "version": "3.9.7"
  },
  "toc": {
   "base_numbering": 1,
   "nav_menu": {},
   "number_sections": true,
   "sideBar": true,
   "skip_h1_title": false,
   "title_cell": "Table of Contents",
   "title_sidebar": "Contents",
   "toc_cell": false,
   "toc_position": {
    "height": "calc(100% - 180px)",
    "left": "10px",
    "top": "150px",
    "width": "288px"
   },
   "toc_section_display": true,
   "toc_window_display": true
  },
  "varInspector": {
   "cols": {
    "lenName": 16,
    "lenType": 16,
    "lenVar": 40
   },
   "kernels_config": {
    "python": {
     "delete_cmd_postfix": "",
     "delete_cmd_prefix": "del ",
     "library": "var_list.py",
     "varRefreshCmd": "print(var_dic_list())"
    },
    "r": {
     "delete_cmd_postfix": ") ",
     "delete_cmd_prefix": "rm(",
     "library": "var_list.r",
     "varRefreshCmd": "cat(var_dic_list()) "
    }
   },
   "types_to_exclude": [
    "module",
    "function",
    "builtin_function_or_method",
    "instance",
    "_Feature"
   ],
   "window_display": false
  }
 },
 "nbformat": 4,
 "nbformat_minor": 5
}
